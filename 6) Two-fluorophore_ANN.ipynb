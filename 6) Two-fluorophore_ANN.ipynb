{
 "cells": [
  {
   "cell_type": "code",
   "execution_count": 1,
   "id": "disciplinary-english",
   "metadata": {},
   "outputs": [],
   "source": [
    "import tensorflow as tf\n",
    "from tensorflow import keras\n",
    "import matplotlib.pyplot as plt\n",
    "import pandas as pd\n",
    "import numpy as np\n",
    "from random import *\n",
    "from scipy.linalg import expm"
   ]
  },
  {
   "cell_type": "markdown",
   "id": "seventh-pleasure",
   "metadata": {},
   "source": [
    "### Set up functions and parameters "
   ]
  },
  {
   "cell_type": "code",
   "execution_count": 2,
   "id": "military-breath",
   "metadata": {},
   "outputs": [],
   "source": [
    "def gaussian(x):\n",
    "    b=0\n",
    "    c=0.155\n",
    "    MAX=np.exp(-(0-b)**2/(2*c**2))\n",
    "    \n",
    "    return np.exp(-(x-b)**2/(2*c**2))/MAX/50\n",
    "\n",
    "delta1=2\n",
    "delta2=2\n",
    "delta3=2\n",
    "gamma1=4\n",
    "gamma2=4\n",
    "gamma3=2\n",
    "p1=5\n",
    "p2=5\n",
    "\n",
    "A=4*p1*gamma1/((p1+gamma1)*(p1+gamma1+gamma3))\n",
    "T=300\n",
    "\n",
    "ndetectores=11\n",
    "xdect_list=np.linspace(-0.6,0.6,ndetectores)\n",
    "\n",
    "def alpha(d,i):\n",
    "    return T*gamma3*A*(gaussian(xdect_list[i]-d/2)+gaussian(xdect_list[i]+d/2))"
   ]
  },
  {
   "cell_type": "markdown",
   "id": "double-movement",
   "metadata": {},
   "source": [
    "### Load data"
   ]
  },
  {
   "cell_type": "code",
   "execution_count": 5,
   "id": "consolidated-buffer",
   "metadata": {},
   "outputs": [],
   "source": [
    "Saltos_full=np.load(\"Saltos_full.npy\")\n",
    "d_full=np.load(\"d_full.npy\")\n",
    "\n",
    "Saltos_test=np.load(\"Saltos_train.npy\")\n",
    "d_test=np.load(\"d_train.npy\")"
   ]
  },
  {
   "cell_type": "code",
   "execution_count": 6,
   "id": "proof-pilot",
   "metadata": {},
   "outputs": [],
   "source": [
    "Saltos_valid, Saltos_train=Saltos_full[:8000], Saltos_full[8000:]\n",
    "d_valid, d_train=d_full[:8000], d_full[8000:]"
   ]
  },
  {
   "cell_type": "code",
   "execution_count": 7,
   "id": "short-spectacular",
   "metadata": {},
   "outputs": [],
   "source": [
    "#Translate test data into a classical signal\n",
    "Classic_signal=np.zeros([10000,ndetectores],float)\n",
    "\n",
    "for i in range(0,10000):\n",
    "    for j in range(0,ndetectores):\n",
    "        index=np.where(Saltos_test[i,1]==(j+1))\n",
    "        Classic_signal[i,j]=np.size(index[0])"
   ]
  },
  {
   "cell_type": "code",
   "execution_count": 33,
   "id": "written-coverage",
   "metadata": {},
   "outputs": [],
   "source": [
    "nsaltos=16"
   ]
  },
  {
   "cell_type": "code",
   "execution_count": 38,
   "id": "quick-sense",
   "metadata": {},
   "outputs": [
    {
     "name": "stdout",
     "output_type": "stream",
     "text": [
      "Model: \"sequential_1\"\n",
      "_________________________________________________________________\n",
      " Layer (type)                Output Shape              Param #   \n",
      "=================================================================\n",
      " lstm_2 (LSTM)               (None, 2, 17)             2312      \n",
      "                                                                 \n",
      " lstm_3 (LSTM)               (None, 17)                2380      \n",
      "                                                                 \n",
      " dense_1 (Dense)             (None, 1)                 18        \n",
      "                                                                 \n",
      "=================================================================\n",
      "Total params: 4,710\n",
      "Trainable params: 4,710\n",
      "Non-trainable params: 0\n",
      "_________________________________________________________________\n",
      "None\n"
     ]
    }
   ],
   "source": [
    "model=keras.models.Sequential()\n",
    "model.add(keras.Input(shape=(2,nsaltos)))\n",
    "model.add(keras.layers.LSTM(17, return_sequences=True, activation=\"selu\"))\n",
    "model.add(keras.layers.LSTM(17, return_sequences=False, activation=\"selu\"))\n",
    "model.add(keras.layers.Dense(1))\n",
    "\n",
    "model.compile(loss=\"mse\",\n",
    "             optimizer=\"adam\",\n",
    "             metrics=[\"MeanSquaredError\"])\n",
    "\n",
    "print(model.summary())"
   ]
  },
  {
   "cell_type": "code",
   "execution_count": 39,
   "id": "exempt-nightlife",
   "metadata": {},
   "outputs": [
    {
     "name": "stdout",
     "output_type": "stream",
     "text": [
      "Epoch 1/30\n",
      "1313/1313 [==============================] - 6s 3ms/step - loss: 0.0541 - mean_squared_error: 0.0541 - val_loss: 0.0928 - val_mean_squared_error: 0.0928\n",
      "Epoch 2/30\n",
      "1313/1313 [==============================] - 4s 3ms/step - loss: 0.0241 - mean_squared_error: 0.0241 - val_loss: 0.0415 - val_mean_squared_error: 0.0415\n",
      "Epoch 3/30\n",
      "1313/1313 [==============================] - 4s 3ms/step - loss: 0.0161 - mean_squared_error: 0.0161 - val_loss: 0.0421 - val_mean_squared_error: 0.0421\n",
      "Epoch 4/30\n",
      "1313/1313 [==============================] - 3s 3ms/step - loss: 0.0139 - mean_squared_error: 0.0139 - val_loss: 0.0220 - val_mean_squared_error: 0.0220\n",
      "Epoch 5/30\n",
      "1313/1313 [==============================] - 3s 3ms/step - loss: 0.0130 - mean_squared_error: 0.0130 - val_loss: 0.0388 - val_mean_squared_error: 0.0388\n",
      "Epoch 6/30\n",
      "1313/1313 [==============================] - 4s 3ms/step - loss: 0.0123 - mean_squared_error: 0.0123 - val_loss: 0.0396 - val_mean_squared_error: 0.0396\n",
      "Epoch 7/30\n",
      "1313/1313 [==============================] - 4s 3ms/step - loss: 0.0117 - mean_squared_error: 0.0117 - val_loss: 0.0285 - val_mean_squared_error: 0.0285\n",
      "Epoch 8/30\n",
      "1313/1313 [==============================] - 4s 3ms/step - loss: 0.0114 - mean_squared_error: 0.0114 - val_loss: 0.0272 - val_mean_squared_error: 0.0272\n",
      "Epoch 9/30\n",
      "1313/1313 [==============================] - 4s 3ms/step - loss: 0.0111 - mean_squared_error: 0.0111 - val_loss: 0.0243 - val_mean_squared_error: 0.0243\n",
      "Epoch 10/30\n",
      "1313/1313 [==============================] - 4s 3ms/step - loss: 0.0109 - mean_squared_error: 0.0109 - val_loss: 0.0270 - val_mean_squared_error: 0.0270\n",
      "Epoch 11/30\n",
      "1313/1313 [==============================] - 3s 3ms/step - loss: 0.0107 - mean_squared_error: 0.0107 - val_loss: 0.0306 - val_mean_squared_error: 0.0306\n",
      "Epoch 12/30\n",
      "1313/1313 [==============================] - 4s 3ms/step - loss: 0.0106 - mean_squared_error: 0.0106 - val_loss: 0.0272 - val_mean_squared_error: 0.0272\n",
      "Epoch 13/30\n",
      "1313/1313 [==============================] - 4s 3ms/step - loss: 0.0104 - mean_squared_error: 0.0104 - val_loss: 0.0339 - val_mean_squared_error: 0.0339\n",
      "Epoch 14/30\n",
      "1313/1313 [==============================] - 4s 3ms/step - loss: 0.0103 - mean_squared_error: 0.0103 - val_loss: 0.0252 - val_mean_squared_error: 0.0252\n",
      "Epoch 15/30\n",
      "1313/1313 [==============================] - 4s 3ms/step - loss: 0.0102 - mean_squared_error: 0.0102 - val_loss: 0.0300 - val_mean_squared_error: 0.0300\n",
      "Epoch 16/30\n",
      "1313/1313 [==============================] - 4s 3ms/step - loss: 0.0100 - mean_squared_error: 0.0100 - val_loss: 0.0295 - val_mean_squared_error: 0.0295\n",
      "Epoch 17/30\n",
      "1313/1313 [==============================] - 3s 3ms/step - loss: 0.0100 - mean_squared_error: 0.0100 - val_loss: 0.0367 - val_mean_squared_error: 0.0367\n",
      "Epoch 18/30\n",
      "1313/1313 [==============================] - 4s 3ms/step - loss: 0.0100 - mean_squared_error: 0.0100 - val_loss: 0.0247 - val_mean_squared_error: 0.0247\n",
      "Epoch 19/30\n",
      "1313/1313 [==============================] - 4s 3ms/step - loss: 0.0098 - mean_squared_error: 0.0098 - val_loss: 0.0397 - val_mean_squared_error: 0.0397\n",
      "Epoch 20/30\n",
      "1313/1313 [==============================] - 4s 3ms/step - loss: 0.0097 - mean_squared_error: 0.0097 - val_loss: 0.0365 - val_mean_squared_error: 0.0365\n",
      "Epoch 21/30\n",
      "1313/1313 [==============================] - 4s 3ms/step - loss: 0.0097 - mean_squared_error: 0.0097 - val_loss: 0.0220 - val_mean_squared_error: 0.0220\n",
      "Epoch 22/30\n",
      "1313/1313 [==============================] - 4s 3ms/step - loss: 0.0096 - mean_squared_error: 0.0096 - val_loss: 0.0280 - val_mean_squared_error: 0.0280\n",
      "Epoch 23/30\n",
      "1313/1313 [==============================] - 4s 3ms/step - loss: 0.0096 - mean_squared_error: 0.0096 - val_loss: 0.0211 - val_mean_squared_error: 0.0211\n",
      "Epoch 24/30\n",
      "1313/1313 [==============================] - 4s 3ms/step - loss: 0.0096 - mean_squared_error: 0.0096 - val_loss: 0.0394 - val_mean_squared_error: 0.0394\n",
      "Epoch 25/30\n",
      "1313/1313 [==============================] - 4s 3ms/step - loss: 0.0096 - mean_squared_error: 0.0096 - val_loss: 0.0505 - val_mean_squared_error: 0.0505\n",
      "Epoch 26/30\n",
      "1313/1313 [==============================] - 4s 3ms/step - loss: 0.0095 - mean_squared_error: 0.0095 - val_loss: 0.0344 - val_mean_squared_error: 0.0344\n",
      "Epoch 27/30\n",
      "1313/1313 [==============================] - 4s 3ms/step - loss: 0.0094 - mean_squared_error: 0.0094 - val_loss: 0.0350 - val_mean_squared_error: 0.0350\n",
      "Epoch 28/30\n",
      "1313/1313 [==============================] - 4s 3ms/step - loss: 0.0094 - mean_squared_error: 0.0094 - val_loss: 0.0318 - val_mean_squared_error: 0.0318\n",
      "Epoch 29/30\n",
      "1313/1313 [==============================] - 4s 3ms/step - loss: 0.0095 - mean_squared_error: 0.0095 - val_loss: 0.0368 - val_mean_squared_error: 0.0368\n",
      "Epoch 30/30\n",
      "1313/1313 [==============================] - 4s 3ms/step - loss: 0.0094 - mean_squared_error: 0.0094 - val_loss: 0.0426 - val_mean_squared_error: 0.0426\n"
     ]
    }
   ],
   "source": [
    "history=model.fit(Saltos_train,d_train,epochs=30,\n",
    "                 validation_data=(Saltos_valid, d_valid))"
   ]
  },
  {
   "cell_type": "code",
   "execution_count": 40,
   "id": "practical-agency",
   "metadata": {},
   "outputs": [
    {
     "data": {
      "image/png": "[encoded data removed]",
      "text/plain": [
       "<Figure size 576x360 with 1 Axes>"
      ]
     },
     "metadata": {
      "needs_background": "light"
     },
     "output_type": "display_data"
    }
   ],
   "source": [
    "pd.DataFrame(history.history).plot(figsize=(8, 5))\n",
    "plt.xlabel(\"Epochs\")\n",
    "#plt.title(\"Rendimiento\")\n",
    "plt.ylabel(\"MSE\")\n",
    "plt.grid(True)\n",
    "plt.gca().set_ylim(0, 0.1) # set the vertical range to [0-1]\n",
    "plt.show()"
   ]
  },
  {
   "cell_type": "code",
   "execution_count": 25,
   "id": "focused-validation",
   "metadata": {},
   "outputs": [],
   "source": [
    "model.save(\"model_fluoroforo1.h5\")"
   ]
  },
  {
   "cell_type": "code",
   "execution_count": 8,
   "id": "recovered-collector",
   "metadata": {},
   "outputs": [],
   "source": [
    "model=keras.models.load_model(\"model_fluoroforo1.h5\")"
   ]
  },
  {
   "cell_type": "markdown",
   "id": "tribal-armor",
   "metadata": {},
   "source": [
    "### Classical signal prediction"
   ]
  },
  {
   "cell_type": "code",
   "execution_count": 9,
   "id": "developed-poker",
   "metadata": {},
   "outputs": [],
   "source": [
    "nsets=20\n",
    "nu=500\n",
    "d_list=np.linspace(0,1,nsets)\n",
    "L=np.zeros([10000,nsets],float)\n",
    "\n",
    "#Cálculo del estimador \"L\"\n",
    "for k in range(0,10000): #Bucle sobre trayectorias\n",
    "    for j in range(0,nsets): #Bucle sobre distancias\n",
    "        Suma1=0\n",
    "        Suma2=0\n",
    "        for i in range(0,ndetectores):\n",
    "            Suma1=Suma1+alpha(d_list[j],i)\n",
    "            Suma2=Suma2+Classic_signal[k,i]*np.log(alpha(d_list[j],i))\n",
    "        L[k,j]=Suma2-Suma1    "
   ]
  },
  {
   "cell_type": "code",
   "execution_count": 10,
   "id": "adaptive-dietary",
   "metadata": {},
   "outputs": [],
   "source": [
    "d_classic=np.zeros(10000,float)\n",
    "\n",
    "#Sacamos los máximos del estimador\n",
    "for i in range(0,10000):\n",
    "    indice=np.argmax(L[i])\n",
    "    d_classic[i]=d_list[indice]\n",
    "\n",
    "x=[]\n",
    "Sigma_classic=[]\n",
    "for i in range(0,nsets):\n",
    "    x.append(d_test[i*nu])\n",
    "    a=d_classic[i*nu:(i+1)*nu]\n",
    "    \n",
    "    num_clases=12\n",
    "    Pi, bins=np.histogram(a, bins=num_clases, density=True)\n",
    "\n",
    "    diff=bins[1]-bins[0]\n",
    "    clases=bins[:num_clases]\n",
    "    clases=clases+diff/2\n",
    "\n",
    "    d_expect=np.dot(Pi,clases)/np.sum(Pi)\n",
    "    d_expect2=np.dot(Pi,clases**2)/np.sum(Pi)\n",
    "    Var=np.abs(d_expect2-2*d_expect*d_test[i*nu]+d_test[i*nu]**2)\n",
    "    Sigma_classic.append(np.sqrt(Var))\n",
    "\n",
    "x=np.array(x)\n",
    "Sigma_classic=np.array(Sigma_classic)  "
   ]
  },
  {
   "cell_type": "markdown",
   "id": "christian-morocco",
   "metadata": {},
   "source": [
    "### Network's prediction"
   ]
  },
  {
   "cell_type": "code",
   "execution_count": 11,
   "id": "front-arlington",
   "metadata": {},
   "outputs": [],
   "source": [
    "y_proba=model.predict(Saltos_test)"
   ]
  },
  {
   "cell_type": "markdown",
   "id": "completed-portrait",
   "metadata": {},
   "source": [
    "### Finding the MSE with the density histogram"
   ]
  },
  {
   "cell_type": "code",
   "execution_count": 54,
   "id": "female-lightweight",
   "metadata": {},
   "outputs": [
    {
     "data": {
      "image/png": "[encoded data removed]",
      "text/plain": [
       "<Figure size 432x288 with 1 Axes>"
      ]
     },
     "metadata": {
      "needs_background": "light"
     },
     "output_type": "display_data"
    }
   ],
   "source": [
    "i=9\n",
    "\n",
    "a=y_proba[i*nu:(i+1)*nu]\n",
    "    \n",
    "num_clases=12\n",
    "hist, bins=np.histogram(a, bins=num_clases, density=True)\n",
    "\n",
    "diff=bins[1]-bins[0]\n",
    "clases=bins[:num_clases]\n",
    "clases=clases+diff/2\n",
    "\n",
    "plt.bar(clases,hist, width=0.04, align=\"center\")\n",
    "#plt.plot(clases,hist)\n",
    "plt.xlabel(\"Distance (d)\")\n",
    "plt.ylabel(\"Frequency density\")\n",
    "plt.title(\"Real distance=\"+str(round(d_test[i*nu],2))+\" (red)\")\n",
    "plt.vlines(d_test[i*nu], 0, 4, 'r')\n",
    "plt.show()"
   ]
  },
  {
   "cell_type": "markdown",
   "id": "administrative-heather",
   "metadata": {},
   "source": [
    "### Studying dependence with the distance"
   ]
  },
  {
   "cell_type": "code",
   "execution_count": 12,
   "id": "unable-fountain",
   "metadata": {},
   "outputs": [
    {
     "data": {
      "image/png": "[encoded data removed]",
      "text/plain": [
       "<Figure size 432x288 with 1 Axes>"
      ]
     },
     "metadata": {
      "needs_background": "light"
     },
     "output_type": "display_data"
    }
   ],
   "source": [
    "Sigma=[]\n",
    "\n",
    "for i in range(0,nsets):\n",
    "    a=y_proba[i*nu:(i+1)*nu]\n",
    "    \n",
    "    num_clases=12\n",
    "    Pi, bins=np.histogram(a, bins=num_clases, density=True)\n",
    "\n",
    "    diff=bins[1]-bins[0]\n",
    "    clases=bins[:num_clases]\n",
    "    clases=clases+diff/2\n",
    "\n",
    "    d_expect=np.dot(Pi,clases)/np.sum(Pi)\n",
    "    d_expect2=np.dot(Pi,clases**2)/np.sum(Pi)\n",
    "    Var=np.abs(d_expect2-2*d_expect*d_test[i*nu]+d_test[i*nu]**2)\n",
    "    Sigma.append(np.sqrt(Var))\n",
    "\n",
    "Sigma=np.array(Sigma)\n",
    "\n",
    "plt.plot(x,Sigma,label=\"ANN\",marker=\"o\")\n",
    "plt.plot(x,Sigma_classic,label=\"Classical signal\",marker=\"o\")\n",
    "plt.xlabel(\"Distance (d)\")\n",
    "plt.ylabel(\"MSE\")\n",
    "plt.title(\"Comparison in performance. \"+\"\\u03bd=\"+str(1))\n",
    "plt.legend()\n",
    "\n",
    "plt.show()"
   ]
  }
 ],
 "metadata": {
  "kernelspec": {
   "display_name": "Python 3",
   "language": "python",
   "name": "python3"
  },
  "language_info": {
   "codemirror_mode": {
    "name": "ipython",
    "version": 3
   },
   "file_extension": ".py",
   "mimetype": "text/x-python",
   "name": "python",
   "nbconvert_exporter": "python",
   "pygments_lexer": "ipython3",
   "version": "3.9.1"
  }
 },
 "nbformat": 4,
 "nbformat_minor": 5
}
