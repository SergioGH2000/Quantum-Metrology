{
 "cells": [
  {
   "cell_type": "markdown",
   "id": "pediatric-camping",
   "metadata": {},
   "source": [
    "# Cataloging of different kinds of ANNs"
   ]
  },
  {
   "cell_type": "code",
   "execution_count": 1,
   "id": "colored-pasta",
   "metadata": {},
   "outputs": [],
   "source": [
    "import tensorflow as tf\n",
    "from tensorflow import keras\n",
    "import matplotlib.pyplot as plt\n",
    "import pandas as pd\n",
    "import numpy as np\n",
    "from random import *\n",
    "from scipy.linalg import expm"
   ]
  },
  {
   "cell_type": "markdown",
   "id": "automated-penny",
   "metadata": {},
   "source": [
    "### Initialize system and parameters"
   ]
  },
  {
   "cell_type": "code",
   "execution_count": 2,
   "id": "varying-satellite",
   "metadata": {},
   "outputs": [],
   "source": [
    "omega=1\n",
    "gamma=1\n",
    "\n",
    "ndelta=201\n",
    "Deltamin=0\n",
    "Deltamax=10\n",
    "Deltalist=np.linspace(Deltamin,Deltamax,ndelta)\n",
    "dDelta=Deltalist[1]-Deltalist[0]\n",
    "\n",
    "dt=0.05\n",
    "t0=0\n",
    "tf=30\n",
    "nt=int((tf-t0)/dt)\n",
    "t=np.linspace(t0,tf,nt)\n",
    "\n",
    "njumps=50\n",
    "num_bins=50"
   ]
  },
  {
   "cell_type": "markdown",
   "id": "decimal-likelihood",
   "metadata": {},
   "source": [
    "Load photodetection registers and split them into 80% actual training data (80000 trajectories) and 20% validation (20000 trajectories)"
   ]
  },
  {
   "cell_type": "code",
   "execution_count": 3,
   "id": "minus-outdoors",
   "metadata": {},
   "outputs": [],
   "source": [
    "delay_full=np.load(\"delay_full.npy\")\n",
    "histo_full=np.load(\"histo_full.npy\")\n",
    "delta_full=np.load(\"delta_full.npy\")\n",
    "\n",
    "delay_test=np.load(\"delay_test.npy\")\n",
    "histo_test=np.load(\"histo_test.npy\")\n",
    "delta_test=np.load(\"delta_test.npy\")"
   ]
  },
  {
   "cell_type": "code",
   "execution_count": 14,
   "id": "collect-timber",
   "metadata": {},
   "outputs": [],
   "source": [
    "delay_valid, delay_train=delay_full[:20000], delay_full[20000:]\n",
    "histo_valid, histo_train=histo_full[:20000], histo_full[20000:]\n",
    "delta_valid, delta_train=delta_full[:20000], delta_full[20000:]"
   ]
  },
  {
   "cell_type": "code",
   "execution_count": 4,
   "id": "light-hampshire",
   "metadata": {},
   "outputs": [
    {
     "name": "stdout",
     "output_type": "stream",
     "text": [
      "MLE= 2.990588114861329  +-  0.022659039473509557\n",
      "Random= 5.0  +-  2.9011491975882024\n"
     ]
    }
   ],
   "source": [
    "Ntraj=10000\n",
    "nu=100\n",
    "nsets=int(Ntraj/nu)\n",
    "\n",
    "#MLE method\n",
    "T=np.zeros(Ntraj,float)\n",
    "N=np.zeros(Ntraj,float)\n",
    "for i in range(0,Ntraj):\n",
    "    T[i]=np.sum(delay_test[i,:])\n",
    "    N[i]=np.sum(histo_test[i,:])\n",
    "\n",
    "Varclassiclist=np.zeros(nsets,float)\n",
    "Deltaclassiclist=np.zeros(nsets,float)\n",
    "Delta_set=np.zeros(nu,float)\n",
    "\n",
    "for i in range(0,nsets):\n",
    "    for j in range(0,nu):\n",
    "        Delta_set[j]=0.5*np.sqrt((4*T[i*nu+j]*gamma*omega**2-8*N[i*nu+j]*omega**2-N[i*nu+j]*gamma**2)/N[i*nu+j])\n",
    "        \n",
    "    Deltaclassiclist[i]=np.sum(Delta_set)/nu\n",
    "    Varclassiclist[i]=(Deltaclassiclist[i]-delta_test[0]*dDelta)**2\n",
    "\n",
    "Sigmaclassiclist=np.sqrt(np.abs(Varclassiclist))\n",
    "Deltaclassic=np.sum(Deltaclassiclist)/nsets   \n",
    "Sigma_classic=np.sum(Sigmaclassiclist)/nsets\n",
    "\n",
    "print(\"MLE=\",Deltaclassic,\" +- \",Sigma_classic)\n",
    "\n",
    "#Random estimation\n",
    "P=1/ndelta\n",
    "Rand_expect=np.sum(Deltalist*P)\n",
    "Rand_squared=np.sum(Deltalist**2*P)\n",
    "Rand_sigma=np.sqrt(np.abs(Rand_squared-Rand_expect**2))\n",
    "\n",
    "print(\"Random=\",Rand_expect,\" +- \",Rand_sigma)"
   ]
  },
  {
   "cell_type": "markdown",
   "id": "confirmed-consultancy",
   "metadata": {},
   "source": [
    "## Dense networks"
   ]
  },
  {
   "cell_type": "markdown",
   "id": "electrical-graphic",
   "metadata": {},
   "source": [
    "### 1) Dense network  -   Input: histogram  - Output: classifier"
   ]
  },
  {
   "cell_type": "code",
   "execution_count": 16,
   "id": "improving-storm",
   "metadata": {},
   "outputs": [
    {
     "name": "stdout",
     "output_type": "stream",
     "text": [
      "Model: \"sequential\"\n",
      "_________________________________________________________________\n",
      " Layer (type)                Output Shape              Param #   \n",
      "=================================================================\n",
      " dense (Dense)               (None, 50)                2550      \n",
      "                                                                 \n",
      " dense_1 (Dense)             (None, 84)                4284      \n",
      "                                                                 \n",
      " dense_2 (Dense)             (None, 84)                7140      \n",
      "                                                                 \n",
      " dense_3 (Dense)             (None, 201)               17085     \n",
      "                                                                 \n",
      "=================================================================\n",
      "Total params: 31,059\n",
      "Trainable params: 31,059\n",
      "Non-trainable params: 0\n",
      "_________________________________________________________________\n",
      "None\n"
     ]
    }
   ],
   "source": [
    "model1=keras.models.Sequential()\n",
    "model1.add(keras.layers.Dense(num_bins, activation=\"relu\", input_shape=[num_bins]))\n",
    "model1.add(keras.layers.Dense(84, activation=\"relu\"))\n",
    "model1.add(keras.layers.Dense(84, activation=\"relu\"))\n",
    "model1.add(keras.layers.Dense(ndelta, activation=\"softmax\"))\n",
    "\n",
    "model1.compile(loss=\"sparse_categorical_crossentropy\",\n",
    "             optimizer=\"adam\",\n",
    "             metrics=[\"accuracy\"])\n",
    "\n",
    "print(model1.summary())"
   ]
  },
  {
   "cell_type": "code",
   "execution_count": 17,
   "id": "residential-africa",
   "metadata": {
    "scrolled": true
   },
   "outputs": [
    {
     "name": "stdout",
     "output_type": "stream",
     "text": [
      "Epoch 1/30\n",
      "2500/2500 [==============================] - 7s 2ms/step - loss: 3.8460 - accuracy: 0.0548 - val_loss: 3.7115 - val_accuracy: 0.0512\n",
      "Epoch 2/30\n",
      "2500/2500 [==============================] - 4s 2ms/step - loss: 3.5259 - accuracy: 0.0682 - val_loss: 3.6190 - val_accuracy: 0.0492\n",
      "Epoch 3/30\n",
      "2500/2500 [==============================] - 4s 2ms/step - loss: 3.4860 - accuracy: 0.0713 - val_loss: 3.5929 - val_accuracy: 0.0477\n",
      "Epoch 4/30\n",
      "2500/2500 [==============================] - 4s 2ms/step - loss: 3.4677 - accuracy: 0.0733 - val_loss: 3.5883 - val_accuracy: 0.0553\n",
      "Epoch 5/30\n",
      "2500/2500 [==============================] - 4s 2ms/step - loss: 3.4546 - accuracy: 0.0752 - val_loss: 3.5779 - val_accuracy: 0.0521\n",
      "Epoch 6/30\n",
      "2500/2500 [==============================] - 4s 2ms/step - loss: 3.4429 - accuracy: 0.0760 - val_loss: 3.5892 - val_accuracy: 0.0585\n",
      "Epoch 7/30\n",
      "2500/2500 [==============================] - 4s 2ms/step - loss: 3.4351 - accuracy: 0.0769 - val_loss: 3.6127 - val_accuracy: 0.0500\n",
      "Epoch 8/30\n",
      "2500/2500 [==============================] - 4s 2ms/step - loss: 3.4295 - accuracy: 0.0772 - val_loss: 3.5829 - val_accuracy: 0.0535\n",
      "Epoch 9/30\n",
      "2500/2500 [==============================] - 5s 2ms/step - loss: 3.4246 - accuracy: 0.0786 - val_loss: 3.5881 - val_accuracy: 0.0488\n",
      "Epoch 10/30\n",
      "2500/2500 [==============================] - 4s 2ms/step - loss: 3.4188 - accuracy: 0.0798 - val_loss: 3.6016 - val_accuracy: 0.0531\n",
      "Epoch 11/30\n",
      "2500/2500 [==============================] - 4s 2ms/step - loss: 3.4136 - accuracy: 0.0795 - val_loss: 3.5964 - val_accuracy: 0.0543\n",
      "Epoch 12/30\n",
      "2500/2500 [==============================] - 4s 2ms/step - loss: 3.4050 - accuracy: 0.0811 - val_loss: 3.6026 - val_accuracy: 0.0496\n",
      "Epoch 13/30\n",
      "2500/2500 [==============================] - 4s 2ms/step - loss: 3.4022 - accuracy: 0.0825 - val_loss: 3.5903 - val_accuracy: 0.0571\n",
      "Epoch 14/30\n",
      "2500/2500 [==============================] - 4s 2ms/step - loss: 3.3958 - accuracy: 0.0821 - val_loss: 3.6167 - val_accuracy: 0.0491\n",
      "Epoch 15/30\n",
      "2500/2500 [==============================] - 4s 2ms/step - loss: 3.3894 - accuracy: 0.0839 - val_loss: 3.6120 - val_accuracy: 0.0538\n",
      "Epoch 16/30\n",
      "2500/2500 [==============================] - 5s 2ms/step - loss: 3.3845 - accuracy: 0.0837 - val_loss: 3.6138 - val_accuracy: 0.0457\n",
      "Epoch 17/30\n",
      "2500/2500 [==============================] - 4s 2ms/step - loss: 3.3789 - accuracy: 0.0847 - val_loss: 3.6001 - val_accuracy: 0.0514\n",
      "Epoch 18/30\n",
      "2500/2500 [==============================] - 4s 2ms/step - loss: 3.3758 - accuracy: 0.0869 - val_loss: 3.6423 - val_accuracy: 0.0397\n",
      "Epoch 19/30\n",
      "2500/2500 [==============================] - 4s 2ms/step - loss: 3.3699 - accuracy: 0.0875 - val_loss: 3.6155 - val_accuracy: 0.0573\n",
      "Epoch 20/30\n",
      "2500/2500 [==============================] - 4s 2ms/step - loss: 3.3658 - accuracy: 0.0886 - val_loss: 3.6638 - val_accuracy: 0.0515\n",
      "Epoch 21/30\n",
      "2500/2500 [==============================] - 4s 2ms/step - loss: 3.3628 - accuracy: 0.0876 - val_loss: 3.6181 - val_accuracy: 0.0528\n",
      "Epoch 22/30\n",
      "2500/2500 [==============================] - 5s 2ms/step - loss: 3.3585 - accuracy: 0.0891 - val_loss: 3.6281 - val_accuracy: 0.0516\n",
      "Epoch 23/30\n",
      "2500/2500 [==============================] - 4s 2ms/step - loss: 3.3526 - accuracy: 0.0909 - val_loss: 3.6095 - val_accuracy: 0.0583\n",
      "Epoch 24/30\n",
      "2500/2500 [==============================] - 4s 2ms/step - loss: 3.3469 - accuracy: 0.0919 - val_loss: 3.6169 - val_accuracy: 0.0549\n",
      "Epoch 25/30\n",
      "2500/2500 [==============================] - 5s 2ms/step - loss: 3.3440 - accuracy: 0.0927 - val_loss: 3.6731 - val_accuracy: 0.0523\n",
      "Epoch 26/30\n",
      "2500/2500 [==============================] - 5s 2ms/step - loss: 3.3374 - accuracy: 0.0933 - val_loss: 3.6372 - val_accuracy: 0.0560\n",
      "Epoch 27/30\n",
      "2500/2500 [==============================] - 4s 2ms/step - loss: 3.3344 - accuracy: 0.0945 - val_loss: 3.6533 - val_accuracy: 0.0546\n",
      "Epoch 28/30\n",
      "2500/2500 [==============================] - 5s 2ms/step - loss: 3.3296 - accuracy: 0.0940 - val_loss: 3.7583 - val_accuracy: 0.0518\n",
      "Epoch 29/30\n",
      "2500/2500 [==============================] - 5s 2ms/step - loss: 3.3272 - accuracy: 0.0947 - val_loss: 3.6583 - val_accuracy: 0.0538\n",
      "Epoch 30/30\n",
      "2500/2500 [==============================] - 5s 2ms/step - loss: 3.3223 - accuracy: 0.0957 - val_loss: 3.6621 - val_accuracy: 0.0579\n"
     ]
    }
   ],
   "source": [
    "history=model1.fit(histo_train,delta_train,epochs=30,\n",
    "                 validation_data=(histo_valid, delta_valid))"
   ]
  },
  {
   "cell_type": "code",
   "execution_count": 37,
   "id": "tamil-calcium",
   "metadata": {},
   "outputs": [],
   "source": [
    "model1.save(\"model_1.h5\")"
   ]
  },
  {
   "cell_type": "code",
   "execution_count": 5,
   "id": "protected-adrian",
   "metadata": {},
   "outputs": [],
   "source": [
    "model1=keras.models.load_model(\"model_1.h5\")"
   ]
  },
  {
   "cell_type": "code",
   "execution_count": 21,
   "id": "classical-albania",
   "metadata": {},
   "outputs": [
    {
     "data": {
      "image/png": "[encoded data removed]",
      "text/plain": [
       "<Figure size 576x360 with 1 Axes>"
      ]
     },
     "metadata": {
      "needs_background": "light"
     },
     "output_type": "display_data"
    }
   ],
   "source": [
    "pd.DataFrame(history.history).plot(figsize=(8, 5))\n",
    "plt.xlabel(\"Epochs\")\n",
    "plt.ylabel(\"Accuracy\")\n",
    "plt.grid(True)\n",
    "plt.gca().set_ylim(0, 0.2) # set the vertical range to [0-1]\n",
    "\n",
    "plt.show()"
   ]
  },
  {
   "cell_type": "code",
   "execution_count": 6,
   "id": "ahead-entrance",
   "metadata": {},
   "outputs": [
    {
     "name": "stdout",
     "output_type": "stream",
     "text": [
      "Delta= 2.9500000004940192  +-  0.04999999950598067\n"
     ]
    },
    {
     "data": {
      "image/png": "[encoded data removed]",
      "text/plain": [
       "<Figure size 432x288 with 1 Axes>"
      ]
     },
     "metadata": {
      "needs_background": "light"
     },
     "output_type": "display_data"
    }
   ],
   "source": [
    "y_proba=model1.predict(histo_test)\n",
    "y_proba=y_proba*20 #This factor avoids numerical overflowing due to really small numbers\n",
    "\n",
    "Ntraj=10000\n",
    "nu=100\n",
    "nsets=int(Ntraj/nu)\n",
    "Deltamean1=np.zeros(nsets,float)\n",
    "Deltavar=np.zeros(nsets,float)\n",
    "\n",
    "for i in range(0,nsets):\n",
    "    Set=np.product(y_proba[i*nu:(i+1)*nu,:],0)\n",
    "    Norma=np.sum(Set)\n",
    "    Set=Set/Norma\n",
    "    Deltamean1[i]=np.dot(Set,Deltalist)\n",
    "    Deltavar[i]=(Deltamean1[i]-delta_test[0]*dDelta)**2\n",
    "\n",
    "Delta_estimate=np.sum(Deltamean1)/nsets\n",
    "Var=np.sum(Deltavar)/nsets\n",
    "Delta_sigma1=np.sqrt(np.abs(Var))\n",
    "\n",
    "print(\"Delta=\",Delta_estimate,\" +- \",Delta_sigma1)\n",
    "\n",
    "X=np.arange(2)\n",
    "Error=[]\n",
    "Error.append(Delta_sigma1)\n",
    "Error.append(Sigma_classic)\n",
    "\n",
    "\n",
    "plt.bar(X,Error)\n",
    "plt.xticks(X, (\"ANN\", \"MLE\"))\n",
    "#plt.title(\"Comparison between MSE\")\n",
    "plt.ylabel(\"MSE\")\n",
    "plt.ylim([0,0.06])\n",
    "plt.show()    "
   ]
  },
  {
   "cell_type": "code",
   "execution_count": 7,
   "id": "floral-sister",
   "metadata": {},
   "outputs": [
    {
     "data": {
      "image/png": "[encoded data removed]",
      "text/plain": [
       "<Figure size 432x288 with 1 Axes>"
      ]
     },
     "metadata": {
      "needs_background": "light"
     },
     "output_type": "display_data"
    }
   ],
   "source": [
    "plt.hist(Deltamean1,align=\"left\" , label=\"ANN\", rwidth=0.8)\n",
    "plt.hist(Deltaclassiclist, align=\"right\", label=\"MLE\",rwidth=0.8, color=\"darkorange\", density=True)\n",
    "plt.xlabel(\"\\u0394\")\n",
    "plt.ylabel(\"Frequency density\")\n",
    "plt.legend()\n",
    "#plt.title(\"Histogram with the predictions from \"+str(nsets)+\" sets\")\n",
    "plt.show()"
   ]
  },
  {
   "cell_type": "markdown",
   "id": "silent-tourism",
   "metadata": {},
   "source": [
    "### 2) Dense network  -   Input: histogram  - Output: single-neuron"
   ]
  },
  {
   "cell_type": "code",
   "execution_count": 41,
   "id": "roman-alias",
   "metadata": {},
   "outputs": [
    {
     "name": "stdout",
     "output_type": "stream",
     "text": [
      "Model: \"sequential_3\"\n",
      "_________________________________________________________________\n",
      " Layer (type)                Output Shape              Param #   \n",
      "=================================================================\n",
      " dense_12 (Dense)            (None, 50)                2550      \n",
      "                                                                 \n",
      " dense_13 (Dense)            (None, 17)                867       \n",
      "                                                                 \n",
      " dense_14 (Dense)            (None, 17)                306       \n",
      "                                                                 \n",
      " dense_15 (Dense)            (None, 1)                 18        \n",
      "                                                                 \n",
      "=================================================================\n",
      "Total params: 3,741\n",
      "Trainable params: 3,741\n",
      "Non-trainable params: 0\n",
      "_________________________________________________________________\n",
      "None\n"
     ]
    }
   ],
   "source": [
    "model2=keras.models.Sequential()\n",
    "model2.add(keras.layers.Dense(num_bins, activation=\"relu\", input_shape=[num_bins]))\n",
    "model2.add(keras.layers.Dense(17, activation=\"relu\"))\n",
    "model2.add(keras.layers.Dense(17, activation=\"relu\"))\n",
    "model2.add(keras.layers.Dense(1))\n",
    "\n",
    "model2.compile(loss=\"mse\",\n",
    "             optimizer=\"adam\",\n",
    "             metrics=[\"MeanSquaredError\"])\n",
    "\n",
    "print(model2.summary())"
   ]
  },
  {
   "cell_type": "code",
   "execution_count": 42,
   "id": "muslim-timing",
   "metadata": {
    "scrolled": true
   },
   "outputs": [
    {
     "name": "stdout",
     "output_type": "stream",
     "text": [
      "Epoch 1/30\n",
      "2500/2500 [==============================] - 4s 1ms/step - loss: 1.5677 - mean_squared_error: 1.5677 - val_loss: 0.2671 - val_mean_squared_error: 0.2671\n",
      "Epoch 2/30\n",
      "2500/2500 [==============================] - 4s 1ms/step - loss: 0.2708 - mean_squared_error: 0.2708 - val_loss: 0.2501 - val_mean_squared_error: 0.2501\n",
      "Epoch 3/30\n",
      "2500/2500 [==============================] - 3s 1ms/step - loss: 0.2556 - mean_squared_error: 0.2556 - val_loss: 0.2269 - val_mean_squared_error: 0.2269\n",
      "Epoch 4/30\n",
      "2500/2500 [==============================] - 3s 1ms/step - loss: 0.2507 - mean_squared_error: 0.2507 - val_loss: 0.2257 - val_mean_squared_error: 0.2257\n",
      "Epoch 5/30\n",
      "2500/2500 [==============================] - 3s 1ms/step - loss: 0.2471 - mean_squared_error: 0.2471 - val_loss: 0.2176 - val_mean_squared_error: 0.2176\n",
      "Epoch 6/30\n",
      "2500/2500 [==============================] - 3s 1ms/step - loss: 0.2429 - mean_squared_error: 0.2429 - val_loss: 0.2254 - val_mean_squared_error: 0.2254\n",
      "Epoch 7/30\n",
      "2500/2500 [==============================] - 4s 1ms/step - loss: 0.2402 - mean_squared_error: 0.2402 - val_loss: 0.2216 - val_mean_squared_error: 0.2216\n",
      "Epoch 8/30\n",
      "2500/2500 [==============================] - 3s 1ms/step - loss: 0.2381 - mean_squared_error: 0.2381 - val_loss: 0.2438 - val_mean_squared_error: 0.2438\n",
      "Epoch 9/30\n",
      "2500/2500 [==============================] - 4s 1ms/step - loss: 0.2359 - mean_squared_error: 0.2359 - val_loss: 0.2176 - val_mean_squared_error: 0.2176\n",
      "Epoch 10/30\n",
      "2500/2500 [==============================] - 3s 1ms/step - loss: 0.2334 - mean_squared_error: 0.2334 - val_loss: 0.2137 - val_mean_squared_error: 0.2137\n",
      "Epoch 11/30\n",
      "2500/2500 [==============================] - 3s 1ms/step - loss: 0.2324 - mean_squared_error: 0.2324 - val_loss: 0.2133 - val_mean_squared_error: 0.2133\n",
      "Epoch 12/30\n",
      "2500/2500 [==============================] - 4s 1ms/step - loss: 0.2304 - mean_squared_error: 0.2304 - val_loss: 0.2136 - val_mean_squared_error: 0.2136\n",
      "Epoch 13/30\n",
      "2500/2500 [==============================] - 4s 1ms/step - loss: 0.2307 - mean_squared_error: 0.2307 - val_loss: 0.2183 - val_mean_squared_error: 0.2183\n",
      "Epoch 14/30\n",
      "2500/2500 [==============================] - 4s 1ms/step - loss: 0.2259 - mean_squared_error: 0.2259 - val_loss: 0.2177 - val_mean_squared_error: 0.2177\n",
      "Epoch 15/30\n",
      "2500/2500 [==============================] - 3s 1ms/step - loss: 0.2259 - mean_squared_error: 0.2259 - val_loss: 0.2229 - val_mean_squared_error: 0.2229\n",
      "Epoch 16/30\n",
      "2500/2500 [==============================] - 4s 1ms/step - loss: 0.2248 - mean_squared_error: 0.2248 - val_loss: 0.2156 - val_mean_squared_error: 0.2156\n",
      "Epoch 17/30\n",
      "2500/2500 [==============================] - 4s 1ms/step - loss: 0.2236 - mean_squared_error: 0.2236 - val_loss: 0.2147 - val_mean_squared_error: 0.2147\n",
      "Epoch 18/30\n",
      "2500/2500 [==============================] - 3s 1ms/step - loss: 0.2214 - mean_squared_error: 0.2214 - val_loss: 0.2200 - val_mean_squared_error: 0.2200\n",
      "Epoch 19/30\n",
      "2500/2500 [==============================] - 4s 1ms/step - loss: 0.2220 - mean_squared_error: 0.2220 - val_loss: 0.2148 - val_mean_squared_error: 0.2148\n",
      "Epoch 20/30\n",
      "2500/2500 [==============================] - 3s 1ms/step - loss: 0.2189 - mean_squared_error: 0.2189 - val_loss: 0.2136 - val_mean_squared_error: 0.2136\n",
      "Epoch 21/30\n",
      "2500/2500 [==============================] - 4s 1ms/step - loss: 0.2182 - mean_squared_error: 0.2182 - val_loss: 0.2179 - val_mean_squared_error: 0.2179\n",
      "Epoch 22/30\n",
      "2500/2500 [==============================] - 4s 1ms/step - loss: 0.2184 - mean_squared_error: 0.2184 - val_loss: 0.2202 - val_mean_squared_error: 0.2202\n",
      "Epoch 23/30\n",
      "2500/2500 [==============================] - 4s 1ms/step - loss: 0.2175 - mean_squared_error: 0.2175 - val_loss: 0.2208 - val_mean_squared_error: 0.2208\n",
      "Epoch 24/30\n",
      "2500/2500 [==============================] - 3s 1ms/step - loss: 0.2156 - mean_squared_error: 0.2156 - val_loss: 0.2095 - val_mean_squared_error: 0.2095\n",
      "Epoch 25/30\n",
      "2500/2500 [==============================] - 4s 1ms/step - loss: 0.2143 - mean_squared_error: 0.2143 - val_loss: 0.2166 - val_mean_squared_error: 0.2166\n",
      "Epoch 26/30\n",
      "2500/2500 [==============================] - 3s 1ms/step - loss: 0.2145 - mean_squared_error: 0.2145 - val_loss: 0.2125 - val_mean_squared_error: 0.2125\n",
      "Epoch 27/30\n",
      "2500/2500 [==============================] - 3s 1ms/step - loss: 0.2133 - mean_squared_error: 0.2133 - val_loss: 0.2129 - val_mean_squared_error: 0.2129\n",
      "Epoch 28/30\n",
      "2500/2500 [==============================] - 3s 1ms/step - loss: 0.2124 - mean_squared_error: 0.2124 - val_loss: 0.2090 - val_mean_squared_error: 0.2090\n",
      "Epoch 29/30\n",
      "2500/2500 [==============================] - 4s 1ms/step - loss: 0.2121 - mean_squared_error: 0.2121 - val_loss: 0.2169 - val_mean_squared_error: 0.2169\n",
      "Epoch 30/30\n",
      "2500/2500 [==============================] - 3s 1ms/step - loss: 0.2109 - mean_squared_error: 0.2109 - val_loss: 0.2137 - val_mean_squared_error: 0.2137\n"
     ]
    }
   ],
   "source": [
    "history=model2.fit(histo_train,delta_train*dDelta,epochs=30,\n",
    "                 validation_data=(histo_valid, delta_valid*dDelta))"
   ]
  },
  {
   "cell_type": "code",
   "execution_count": 13,
   "id": "moving-aruba",
   "metadata": {},
   "outputs": [],
   "source": [
    "model2.save(\"model_2.h5\")"
   ]
  },
  {
   "cell_type": "code",
   "execution_count": 8,
   "id": "modified-jacksonville",
   "metadata": {},
   "outputs": [],
   "source": [
    "model2=keras.models.load_model(\"model_2.h5\")"
   ]
  },
  {
   "cell_type": "code",
   "execution_count": 43,
   "id": "reverse-mentor",
   "metadata": {},
   "outputs": [
    {
     "data": {
      "image/png": "[encoded data removed]",
      "text/plain": [
       "<Figure size 576x360 with 1 Axes>"
      ]
     },
     "metadata": {
      "needs_background": "light"
     },
     "output_type": "display_data"
    }
   ],
   "source": [
    "pd.DataFrame(history.history).plot(figsize=(8, 5))\n",
    "plt.xlabel(\"Epochs\")\n",
    "#plt.title(\"Performance\")\n",
    "plt.ylabel(\"MSE\")\n",
    "plt.grid(True)\n",
    "plt.gca().set_ylim(0, 0.6) # set the vertical range to [0-1]\n",
    "plt.show()"
   ]
  },
  {
   "cell_type": "code",
   "execution_count": 9,
   "id": "declared-hobby",
   "metadata": {},
   "outputs": [
    {
     "name": "stdout",
     "output_type": "stream",
     "text": [
      "NN Delta= 2.9704235687255856  +-  0.03849813358655781\n"
     ]
    },
    {
     "data": {
      "image/png": "[encoded data removed]",
      "text/plain": [
       "<Figure size 432x288 with 1 Axes>"
      ]
     },
     "metadata": {
      "needs_background": "light"
     },
     "output_type": "display_data"
    }
   ],
   "source": [
    "#Neural Network\n",
    "y_proba=model2.predict(histo_test)\n",
    "\n",
    "Ntraj=10000\n",
    "nu=100\n",
    "nsets=int(Ntraj/nu)\n",
    "Deltamean2=np.zeros(nsets,float)\n",
    "Deltavar=np.zeros(nsets,float)\n",
    "\n",
    "for i in range(0,nsets):\n",
    "    Deltamean2[i]=np.sum(y_proba[i*nu:(i+1)*nu])/nu\n",
    "    Deltavar[i]=(Deltamean2[i]-delta_test[0]*dDelta)**2\n",
    "\n",
    "Delta_estimate=np.sum(Deltamean2)/nsets\n",
    "Var=np.sum(Deltavar)/nsets\n",
    "Delta_sigma2=np.sqrt(np.abs(Var))\n",
    "\n",
    "print(\"NN Delta=\",Delta_estimate,\" +- \",Delta_sigma2)\n",
    "\n",
    "X=np.arange(2)\n",
    "Error=[]\n",
    "Error.append(Delta_sigma2)\n",
    "Error.append(Sigma_classic)\n",
    "\n",
    "\n",
    "plt.bar(X,Error)\n",
    "plt.xticks(X, (\"ANN\", \"MLE\"))\n",
    "#plt.title(\"Comparison between MSE\")\n",
    "plt.ylabel(\"MSE\")\n",
    "plt.ylim([0,0.04])\n",
    "plt.show()    "
   ]
  },
  {
   "cell_type": "code",
   "execution_count": 11,
   "id": "becoming-blink",
   "metadata": {},
   "outputs": [
    {
     "data": {
      "image/png": "[encoded data removed]",
      "text/plain": [
       "<Figure size 432x288 with 1 Axes>"
      ]
     },
     "metadata": {
      "needs_background": "light"
     },
     "output_type": "display_data"
    }
   ],
   "source": [
    "plt.hist(Deltamean2,align=\"left\" , label=\"ANN\", rwidth=0.8)\n",
    "plt.hist(Deltaclassiclist, align=\"right\", label=\"MLE\",rwidth=0.8)\n",
    "plt.xlabel(\"\\u0394\")\n",
    "plt.ylabel(\"Frequency\")\n",
    "plt.legend()\n",
    "plt.show()"
   ]
  },
  {
   "cell_type": "markdown",
   "id": "revised-scope",
   "metadata": {},
   "source": [
    "## Recurrent networks"
   ]
  },
  {
   "cell_type": "markdown",
   "id": "addressed-gabriel",
   "metadata": {},
   "source": [
    "### 3) Recurrent network  -   Input: timedelays  - Output: classifier"
   ]
  },
  {
   "cell_type": "code",
   "execution_count": 12,
   "id": "gothic-mexican",
   "metadata": {},
   "outputs": [
    {
     "name": "stdout",
     "output_type": "stream",
     "text": [
      "Model: \"sequential\"\n",
      "_________________________________________________________________\n",
      " Layer (type)                Output Shape              Param #   \n",
      "=================================================================\n",
      " lstm (LSTM)                 (None, 84)                28896     \n",
      "                                                                 \n",
      " dense (Dense)               (None, 201)               17085     \n",
      "                                                                 \n",
      "=================================================================\n",
      "Total params: 45,981\n",
      "Trainable params: 45,981\n",
      "Non-trainable params: 0\n",
      "_________________________________________________________________\n",
      "None\n"
     ]
    }
   ],
   "source": [
    "model3=keras.models.Sequential()\n",
    "model3.add(keras.Input(shape=(njumps,1)))\n",
    "model3.add(keras.layers.LSTM(84, return_sequences=False, activation=\"relu\"))\n",
    "model3.add(keras.layers.Dense(ndelta,activation=\"softmax\"))\n",
    "\n",
    "model3.compile(loss=\"sparse_categorical_crossentropy\",\n",
    "             optimizer=\"adam\",\n",
    "             metrics=[\"accuracy\"])\n",
    "\n",
    "print(model3.summary())"
   ]
  },
  {
   "cell_type": "code",
   "execution_count": 15,
   "id": "operating-encyclopedia",
   "metadata": {},
   "outputs": [
    {
     "name": "stdout",
     "output_type": "stream",
     "text": [
      "Epoch 1/30\n",
      "2500/2500 [==============================] - 59s 23ms/step - loss: 26240.3379 - accuracy: 0.0150 - val_loss: 7059.5674 - val_accuracy: 0.0098\n",
      "Epoch 2/30\n",
      "2500/2500 [==============================] - 57s 23ms/step - loss: 4552.8569 - accuracy: 0.0070 - val_loss: 3690.7637 - val_accuracy: 0.0054\n",
      "Epoch 3/30\n",
      "2500/2500 [==============================] - 56s 22ms/step - loss: 2305.2517 - accuracy: 0.0065 - val_loss: 1196.3770 - val_accuracy: 0.0057\n",
      "Epoch 4/30\n",
      "2500/2500 [==============================] - 56s 22ms/step - loss: 657.7784 - accuracy: 0.0104 - val_loss: 79.6679 - val_accuracy: 0.0078\n",
      "Epoch 5/30\n",
      "2500/2500 [==============================] - 56s 22ms/step - loss: 95.7182 - accuracy: 0.0146 - val_loss: 104.4026 - val_accuracy: 0.0117\n",
      "Epoch 6/30\n",
      "2500/2500 [==============================] - 56s 23ms/step - loss: 70.6095 - accuracy: 0.0173 - val_loss: 55.7034 - val_accuracy: 0.0132\n",
      "Epoch 7/30\n",
      "2500/2500 [==============================] - 57s 23ms/step - loss: 32.7197 - accuracy: 0.0201 - val_loss: 25.2741 - val_accuracy: 0.0111\n",
      "Epoch 8/30\n",
      "2500/2500 [==============================] - 56s 23ms/step - loss: 14.1598 - accuracy: 0.0252 - val_loss: 9.3018 - val_accuracy: 0.0154\n",
      "Epoch 9/30\n",
      "2500/2500 [==============================] - 57s 23ms/step - loss: 3418.7256 - accuracy: 0.0223 - val_loss: 229.8042 - val_accuracy: 0.0049\n",
      "Epoch 10/30\n",
      "2500/2500 [==============================] - 57s 23ms/step - loss: 73.8971 - accuracy: 0.0104 - val_loss: 31.5995 - val_accuracy: 0.0102\n",
      "Epoch 11/30\n",
      "2500/2500 [==============================] - 57s 23ms/step - loss: 21.6875 - accuracy: 0.0117 - val_loss: 19.0937 - val_accuracy: 0.0119\n",
      "Epoch 12/30\n",
      "2500/2500 [==============================] - 58s 23ms/step - loss: 13.6870 - accuracy: 0.0154 - val_loss: 14.9788 - val_accuracy: 0.0071\n",
      "Epoch 13/30\n",
      "2500/2500 [==============================] - 58s 23ms/step - loss: 7.4877 - accuracy: 0.0256 - val_loss: 5.4337 - val_accuracy: 0.0210\n",
      "Epoch 14/30\n",
      "2500/2500 [==============================] - 58s 23ms/step - loss: 5.0499 - accuracy: 0.0306 - val_loss: 5.1749 - val_accuracy: 0.0180\n",
      "Epoch 15/30\n",
      "2500/2500 [==============================] - 57s 23ms/step - loss: 4.7134 - accuracy: 0.0345 - val_loss: 4.3027 - val_accuracy: 0.0293\n",
      "Epoch 16/30\n",
      "2500/2500 [==============================] - 57s 23ms/step - loss: 26041.2559 - accuracy: 0.0186 - val_loss: 95.1162 - val_accuracy: 0.0110\n",
      "Epoch 17/30\n",
      "2500/2500 [==============================] - 57s 23ms/step - loss: 26.5464 - accuracy: 0.0195 - val_loss: 70.5668 - val_accuracy: 0.0097\n",
      "Epoch 18/30\n",
      "2500/2500 [==============================] - 56s 22ms/step - loss: 18.5861 - accuracy: 0.0197 - val_loss: 31.0384 - val_accuracy: 0.0150\n",
      "Epoch 19/30\n",
      "2500/2500 [==============================] - 57s 23ms/step - loss: 13.1224 - accuracy: 0.0191 - val_loss: 27.4604 - val_accuracy: 0.0138\n",
      "Epoch 20/30\n",
      "2500/2500 [==============================] - 58s 23ms/step - loss: 12.9365 - accuracy: 0.0238 - val_loss: 64.8482 - val_accuracy: 0.0093\n",
      "Epoch 21/30\n",
      "2500/2500 [==============================] - 58s 23ms/step - loss: 11.0564 - accuracy: 0.0187 - val_loss: 13.5770 - val_accuracy: 0.0154\n",
      "Epoch 22/30\n",
      "2500/2500 [==============================] - 57s 23ms/step - loss: 8.1698 - accuracy: 0.0237 - val_loss: 11.5187 - val_accuracy: 0.0176\n",
      "Epoch 23/30\n",
      "2500/2500 [==============================] - 58s 23ms/step - loss: 7.7129 - accuracy: 0.0267 - val_loss: 10.1662 - val_accuracy: 0.0224\n",
      "Epoch 24/30\n",
      "2500/2500 [==============================] - 57s 23ms/step - loss: 6.8257 - accuracy: 0.0290 - val_loss: 8.4305 - val_accuracy: 0.0244\n",
      "Epoch 25/30\n",
      "2500/2500 [==============================] - 55s 22ms/step - loss: 6.0165 - accuracy: 0.0319 - val_loss: 7.1981 - val_accuracy: 0.0279\n",
      "Epoch 26/30\n",
      "2500/2500 [==============================] - 56s 22ms/step - loss: 1456.8651 - accuracy: 0.0085 - val_loss: 79.1832 - val_accuracy: 0.0099\n",
      "Epoch 27/30\n",
      "2500/2500 [==============================] - 58s 23ms/step - loss: 35.6622 - accuracy: 0.0134 - val_loss: 29.3724 - val_accuracy: 0.0118\n",
      "Epoch 28/30\n",
      "2500/2500 [==============================] - 58s 23ms/step - loss: 422.7115 - accuracy: 0.0181 - val_loss: 35.4027 - val_accuracy: 0.0142\n",
      "Epoch 29/30\n",
      "2500/2500 [==============================] - 58s 23ms/step - loss: 14.5179 - accuracy: 0.0233 - val_loss: 19.1474 - val_accuracy: 0.0181\n",
      "Epoch 30/30\n",
      "2500/2500 [==============================] - 58s 23ms/step - loss: 12.8816 - accuracy: 0.0243 - val_loss: 17.6166 - val_accuracy: 0.0177\n"
     ]
    }
   ],
   "source": [
    "history=model3.fit(delay_train,delta_train,epochs=30,\n",
    "                 validation_data=(delay_valid, delta_valid))"
   ]
  },
  {
   "cell_type": "code",
   "execution_count": 64,
   "id": "internal-glasgow",
   "metadata": {},
   "outputs": [],
   "source": [
    "model3.save(\"model_3.h5\")"
   ]
  },
  {
   "cell_type": "code",
   "execution_count": 16,
   "id": "dominant-knight",
   "metadata": {},
   "outputs": [],
   "source": [
    "model3=keras.models.load_model(\"model_3.h5\")"
   ]
  },
  {
   "cell_type": "code",
   "execution_count": 46,
   "id": "binding-embassy",
   "metadata": {},
   "outputs": [
    {
     "data": {
      "image/png": "[encoded data removed]",
      "text/plain": [
       "<Figure size 576x360 with 1 Axes>"
      ]
     },
     "metadata": {
      "needs_background": "light"
     },
     "output_type": "display_data"
    }
   ],
   "source": [
    "pd.DataFrame(history.history).plot(figsize=(8, 5))\n",
    "plt.xlabel(\"Epochs\")\n",
    "#plt.title(\"Performance\")\n",
    "plt.grid(True)\n",
    "plt.ylabel(\"Accuracy\")\n",
    "plt.gca().set_ylim(0, 0.1) # set the vertical range to [0-1]\n",
    "plt.show()"
   ]
  },
  {
   "cell_type": "code",
   "execution_count": 17,
   "id": "valued-tract",
   "metadata": {},
   "outputs": [
    {
     "name": "stdout",
     "output_type": "stream",
     "text": [
      "Delta= 2.937803612280317  +-  0.09478431405511976\n"
     ]
    },
    {
     "data": {
      "image/png": "[encoded data removed]",
      "text/plain": [
       "<Figure size 432x288 with 1 Axes>"
      ]
     },
     "metadata": {
      "needs_background": "light"
     },
     "output_type": "display_data"
    }
   ],
   "source": [
    "y_proba=model3.predict(delay_test)\n",
    "y_proba=y_proba*10 #Factor to avoid numerical overflowing\n",
    "\n",
    "Ntraj=10000\n",
    "nu=100\n",
    "nsets=int(Ntraj/nu)\n",
    "Deltamean3=np.zeros(nsets,float)\n",
    "Deltavar=np.zeros(nsets,float)\n",
    "\n",
    "for i in range(0,nsets):\n",
    "    Set=np.product(y_proba[i*nu:(i+1)*nu,:],0)\n",
    "    Norma=np.sum(Set)\n",
    "    Set=Set/Norma\n",
    "    Deltamean3[i]=np.dot(Set,Deltalist)\n",
    "    Deltavar[i]=(Deltamean3[i]-delta_test[0]*dDelta)**2\n",
    "\n",
    "Delta_estimate=np.sum(Deltamean3)/nsets\n",
    "Var=np.sum(Deltavar)/nsets\n",
    "Delta_sigma3=np.sqrt(np.abs(Var))\n",
    "\n",
    "print(\"Delta=\",Delta_estimate,\" +- \",Delta_sigma3)\n",
    "\n",
    "X=np.arange(2)\n",
    "Error=[]\n",
    "Error.append(Delta_sigma3)\n",
    "Error.append(Sigma_classic)\n",
    "\n",
    "\n",
    "plt.bar(X,Error)\n",
    "plt.xticks(X, (\"ANN\", \"MLE\"))\n",
    "plt.ylabel(\"MSE\")\n",
    "#plt.ylim([0,0.1])\n",
    "plt.show()    "
   ]
  },
  {
   "cell_type": "code",
   "execution_count": 18,
   "id": "acquired-robinson",
   "metadata": {},
   "outputs": [
    {
     "data": {
      "image/png": "[encoded data removed]",
      "text/plain": [
       "<Figure size 432x288 with 1 Axes>"
      ]
     },
     "metadata": {
      "needs_background": "light"
     },
     "output_type": "display_data"
    }
   ],
   "source": [
    "plt.hist(Deltamean3,align=\"left\" , label=\"ANN\", rwidth=0.8)\n",
    "plt.hist(Deltaclassiclist, align=\"right\", label=\"MLE\",rwidth=0.8)\n",
    "plt.xlabel(\"\\u0394\")\n",
    "plt.ylabel(\"Frequency\")\n",
    "plt.legend()\n",
    "plt.show()"
   ]
  },
  {
   "cell_type": "markdown",
   "id": "coordinated-paradise",
   "metadata": {},
   "source": [
    "### 4) Recurrent network  -   Input: time-delays  - Output: single-neuron"
   ]
  },
  {
   "cell_type": "code",
   "execution_count": 62,
   "id": "roman-holder",
   "metadata": {},
   "outputs": [
    {
     "name": "stdout",
     "output_type": "stream",
     "text": [
      "Model: \"sequential_7\"\n",
      "_________________________________________________________________\n",
      " Layer (type)                Output Shape              Param #   \n",
      "=================================================================\n",
      " lstm_5 (LSTM)               (None, 50, 17)            1292      \n",
      "                                                                 \n",
      " lstm_6 (LSTM)               (None, 17)                2380      \n",
      "                                                                 \n",
      " dense_19 (Dense)            (None, 1)                 18        \n",
      "                                                                 \n",
      "=================================================================\n",
      "Total params: 3,690\n",
      "Trainable params: 3,690\n",
      "Non-trainable params: 0\n",
      "_________________________________________________________________\n",
      "None\n"
     ]
    }
   ],
   "source": [
    "model4=keras.models.Sequential()\n",
    "model4.add(keras.Input(shape=(njumps,1)))\n",
    "model4.add(keras.layers.LSTM(17, return_sequences=True, activation=\"selu\"))\n",
    "model4.add(keras.layers.LSTM(17, return_sequences=False, activation=\"selu\"))\n",
    "model4.add(keras.layers.Dense(1))\n",
    "\n",
    "model4.compile(loss=\"mse\",\n",
    "             optimizer=\"nadam\",\n",
    "             metrics=[\"MeanSquaredError\"])\n",
    "\n",
    "print(model4.summary())"
   ]
  },
  {
   "cell_type": "code",
   "execution_count": 63,
   "id": "proud-example",
   "metadata": {},
   "outputs": [
    {
     "name": "stdout",
     "output_type": "stream",
     "text": [
      "Epoch 1/30\n",
      "2500/2500 [==============================] - 51s 20ms/step - loss: 4507.9326 - mean_squared_error: 4507.9326 - val_loss: 70.2860 - val_mean_squared_error: 70.2860\n",
      "Epoch 2/30\n",
      "2500/2500 [==============================] - 50s 20ms/step - loss: 39.7859 - mean_squared_error: 39.7859 - val_loss: 20.6783 - val_mean_squared_error: 20.6783\n",
      "Epoch 3/30\n",
      "2500/2500 [==============================] - 50s 20ms/step - loss: 18.9554 - mean_squared_error: 18.9554 - val_loss: 13.3336 - val_mean_squared_error: 13.3336\n",
      "Epoch 4/30\n",
      "2500/2500 [==============================] - 50s 20ms/step - loss: 9.1296 - mean_squared_error: 9.1296 - val_loss: 5.5562 - val_mean_squared_error: 5.5562\n",
      "Epoch 5/30\n",
      "2500/2500 [==============================] - 51s 20ms/step - loss: 3.7912 - mean_squared_error: 3.7912 - val_loss: 3.3867 - val_mean_squared_error: 3.3867\n",
      "Epoch 6/30\n",
      "2500/2500 [==============================] - 51s 20ms/step - loss: 2.2285 - mean_squared_error: 2.2285 - val_loss: 1.6691 - val_mean_squared_error: 1.6691\n",
      "Epoch 7/30\n",
      "2500/2500 [==============================] - 50s 20ms/step - loss: 0.9210 - mean_squared_error: 0.9210 - val_loss: 0.3552 - val_mean_squared_error: 0.3552\n",
      "Epoch 8/30\n",
      "2500/2500 [==============================] - 51s 20ms/step - loss: 0.2978 - mean_squared_error: 0.2978 - val_loss: 0.2563 - val_mean_squared_error: 0.2563\n",
      "Epoch 9/30\n",
      "2500/2500 [==============================] - 50s 20ms/step - loss: 0.2428 - mean_squared_error: 0.2428 - val_loss: 0.2285 - val_mean_squared_error: 0.2285\n",
      "Epoch 10/30\n",
      "2500/2500 [==============================] - 51s 21ms/step - loss: 0.2209 - mean_squared_error: 0.2209 - val_loss: 0.2017 - val_mean_squared_error: 0.2017\n",
      "Epoch 11/30\n",
      "2500/2500 [==============================] - 52s 21ms/step - loss: 0.2068 - mean_squared_error: 0.2068 - val_loss: 0.1935 - val_mean_squared_error: 0.1935\n",
      "Epoch 12/30\n",
      "2500/2500 [==============================] - 52s 21ms/step - loss: 0.1989 - mean_squared_error: 0.1989 - val_loss: 0.1910 - val_mean_squared_error: 0.1910\n",
      "Epoch 13/30\n",
      "2500/2500 [==============================] - 50s 20ms/step - loss: 0.1933 - mean_squared_error: 0.1933 - val_loss: 0.1801 - val_mean_squared_error: 0.1801\n",
      "Epoch 14/30\n",
      "2500/2500 [==============================] - 50s 20ms/step - loss: 0.1884 - mean_squared_error: 0.1884 - val_loss: 0.1763 - val_mean_squared_error: 0.1763\n",
      "Epoch 15/30\n",
      "2500/2500 [==============================] - 50s 20ms/step - loss: 0.1860 - mean_squared_error: 0.1860 - val_loss: 0.1741 - val_mean_squared_error: 0.1741\n",
      "Epoch 16/30\n",
      "2500/2500 [==============================] - 50s 20ms/step - loss: 0.1848 - mean_squared_error: 0.1848 - val_loss: 0.1756 - val_mean_squared_error: 0.1756\n",
      "Epoch 17/30\n",
      "2500/2500 [==============================] - 50s 20ms/step - loss: 0.1843 - mean_squared_error: 0.1843 - val_loss: 0.1759 - val_mean_squared_error: 0.1759\n",
      "Epoch 18/30\n",
      "2500/2500 [==============================] - 51s 20ms/step - loss: 0.1825 - mean_squared_error: 0.1825 - val_loss: 0.1745 - val_mean_squared_error: 0.1745\n",
      "Epoch 19/30\n",
      "2500/2500 [==============================] - 50s 20ms/step - loss: 0.1809 - mean_squared_error: 0.1809 - val_loss: 0.1751 - val_mean_squared_error: 0.1751\n",
      "Epoch 20/30\n",
      "2500/2500 [==============================] - 51s 20ms/step - loss: 0.1805 - mean_squared_error: 0.1805 - val_loss: 0.1736 - val_mean_squared_error: 0.1736\n",
      "Epoch 21/30\n",
      "2500/2500 [==============================] - 51s 20ms/step - loss: 0.1799 - mean_squared_error: 0.1799 - val_loss: 0.1676 - val_mean_squared_error: 0.1676\n",
      "Epoch 22/30\n",
      "2500/2500 [==============================] - 51s 20ms/step - loss: 0.1789 - mean_squared_error: 0.1789 - val_loss: 0.1757 - val_mean_squared_error: 0.1757\n",
      "Epoch 23/30\n",
      "2500/2500 [==============================] - 52s 21ms/step - loss: 0.1787 - mean_squared_error: 0.1787 - val_loss: 0.1700 - val_mean_squared_error: 0.1700\n",
      "Epoch 24/30\n",
      "2500/2500 [==============================] - 52s 21ms/step - loss: 0.1780 - mean_squared_error: 0.1780 - val_loss: 0.1684 - val_mean_squared_error: 0.1684\n",
      "Epoch 25/30\n",
      "2500/2500 [==============================] - 52s 21ms/step - loss: 0.1776 - mean_squared_error: 0.1776 - val_loss: 0.1723 - val_mean_squared_error: 0.1723\n",
      "Epoch 26/30\n",
      "2500/2500 [==============================] - 51s 20ms/step - loss: 0.1778 - mean_squared_error: 0.1778 - val_loss: 0.1693 - val_mean_squared_error: 0.1693\n",
      "Epoch 27/30\n",
      "2500/2500 [==============================] - 51s 20ms/step - loss: 0.1771 - mean_squared_error: 0.1771 - val_loss: 0.1683 - val_mean_squared_error: 0.1683\n",
      "Epoch 28/30\n",
      "2500/2500 [==============================] - 51s 20ms/step - loss: 0.1767 - mean_squared_error: 0.1767 - val_loss: 0.1695 - val_mean_squared_error: 0.1695\n",
      "Epoch 29/30\n",
      "2500/2500 [==============================] - 51s 20ms/step - loss: 0.1765 - mean_squared_error: 0.1765 - val_loss: 0.1749 - val_mean_squared_error: 0.1749\n",
      "Epoch 30/30\n",
      "2500/2500 [==============================] - 51s 20ms/step - loss: 0.1758 - mean_squared_error: 0.1758 - val_loss: 0.1715 - val_mean_squared_error: 0.1715\n"
     ]
    }
   ],
   "source": [
    "history=model4.fit(delay_train,delta_train*dDelta,epochs=30,\n",
    "                 validation_data=(delay_valid, delta_valid*dDelta))"
   ]
  },
  {
   "cell_type": "code",
   "execution_count": 31,
   "id": "considered-reggae",
   "metadata": {},
   "outputs": [],
   "source": [
    "model4.save(\"model_4.h5\")"
   ]
  },
  {
   "cell_type": "code",
   "execution_count": 19,
   "id": "immediate-council",
   "metadata": {},
   "outputs": [],
   "source": [
    "model4=keras.models.load_model(\"model_4.h5\")"
   ]
  },
  {
   "cell_type": "code",
   "execution_count": 65,
   "id": "monthly-washer",
   "metadata": {},
   "outputs": [
    {
     "data": {
      "image/png": "[encoded data removed]",
      "text/plain": [
       "<Figure size 576x360 with 1 Axes>"
      ]
     },
     "metadata": {
      "needs_background": "light"
     },
     "output_type": "display_data"
    }
   ],
   "source": [
    "pd.DataFrame(history.history).plot(figsize=(8, 5))\n",
    "plt.xlabel(\"Epochs\")\n",
    "#plt.title(\"Performance\")\n",
    "plt.grid(True)\n",
    "plt.ylabel(\"MSE\")\n",
    "plt.gca().set_ylim(0, 1) # set the vertical range to [0-1]\n",
    "plt.show()"
   ]
  },
  {
   "cell_type": "code",
   "execution_count": 20,
   "id": "major-poverty",
   "metadata": {},
   "outputs": [
    {
     "name": "stdout",
     "output_type": "stream",
     "text": [
      "Delta= 3.014226443481445  +-  0.026831207417529798\n"
     ]
    },
    {
     "data": {
      "image/png": "[encoded data removed]",
      "text/plain": [
       "<Figure size 432x288 with 1 Axes>"
      ]
     },
     "metadata": {
      "needs_background": "light"
     },
     "output_type": "display_data"
    }
   ],
   "source": [
    "y_proba=model4.predict(delay_test)\n",
    "\n",
    "Ntraj=10000\n",
    "nu=100\n",
    "nsets=int(Ntraj/nu)\n",
    "Deltamean4=np.zeros(nsets,float)\n",
    "Deltavar=np.zeros(nsets,float)\n",
    "\n",
    "for i in range(0,nsets):\n",
    "    Deltamean4[i]=np.sum(y_proba[i*nu:(i+1)*nu])/nu\n",
    "    Deltavar[i]=(Deltamean4[i]-delta_test[0]*dDelta)**2\n",
    "\n",
    "Delta_estimate=np.sum(Deltamean4)/nsets\n",
    "Var=np.sum(Deltavar)/nsets\n",
    "Delta_sigma4=np.sqrt(np.abs(Var))\n",
    "\n",
    "print(\"Delta=\",Delta_estimate,\" +- \",Delta_sigma4)\n",
    "\n",
    "X=np.arange(2)\n",
    "Error=[]\n",
    "Error.append(Delta_sigma4)\n",
    "Error.append(Sigma_classic)\n",
    "\n",
    "\n",
    "plt.bar(X,Error)\n",
    "plt.xticks(X, (\"ANN\", \"MLE\"))\n",
    "plt.ylabel(\"MSE\")\n",
    "plt.ylim([0,0.03])\n",
    "plt.show()    "
   ]
  },
  {
   "cell_type": "code",
   "execution_count": 21,
   "id": "strange-traveler",
   "metadata": {},
   "outputs": [
    {
     "data": {
      "image/png": "[encoded data removed]",
      "text/plain": [
       "<Figure size 432x288 with 1 Axes>"
      ]
     },
     "metadata": {
      "needs_background": "light"
     },
     "output_type": "display_data"
    }
   ],
   "source": [
    "plt.hist(Deltamean4,align=\"left\" , label=\"ANN\", rwidth=0.8)\n",
    "plt.hist(Deltaclassiclist, align=\"right\", label=\"MLE\",rwidth=0.8)\n",
    "plt.xlabel(\"\\u0394\")\n",
    "plt.ylabel(\"Frequency\")\n",
    "plt.legend()\n",
    "plt.show()"
   ]
  },
  {
   "cell_type": "markdown",
   "id": "forced-joining",
   "metadata": {},
   "source": [
    "### 5) Recurrent network  -   Input: histogram  - Output: classifier"
   ]
  },
  {
   "cell_type": "code",
   "execution_count": 11,
   "id": "chinese-copper",
   "metadata": {},
   "outputs": [
    {
     "name": "stdout",
     "output_type": "stream",
     "text": [
      "Model: \"sequential\"\n",
      "_________________________________________________________________\n",
      " Layer (type)                Output Shape              Param #   \n",
      "=================================================================\n",
      " lstm (LSTM)                 (None, 50, 32)            4352      \n",
      "                                                                 \n",
      " lstm_1 (LSTM)               (None, 16)                3136      \n",
      "                                                                 \n",
      " dense (Dense)               (None, 201)               3417      \n",
      "                                                                 \n",
      "=================================================================\n",
      "Total params: 10,905\n",
      "Trainable params: 10,905\n",
      "Non-trainable params: 0\n",
      "_________________________________________________________________\n"
     ]
    }
   ],
   "source": [
    "model5=keras.models.Sequential()\n",
    "model5.add(keras.Input(shape=(num_bins,1)))\n",
    "model5.add(keras.layers.LSTM(32, return_sequences=True, activation=\"relu\"))\n",
    "model5.add(keras.layers.LSTM(16, return_sequences=False, activation=\"relu\"))\n",
    "model5.add(keras.layers.Dense(ndelta,activation=\"softmax\"))\n",
    "\n",
    "model5.compile(loss=\"sparse_categorical_crossentropy\",\n",
    "             optimizer=\"adam\",\n",
    "             metrics=[\"accuracy\"])\n",
    "\n",
    "model5.summary()"
   ]
  },
  {
   "cell_type": "code",
   "execution_count": 12,
   "id": "scheduled-threshold",
   "metadata": {},
   "outputs": [
    {
     "name": "stdout",
     "output_type": "stream",
     "text": [
      "Epoch 1/30\n",
      "2500/2500 [==============================] - 53s 21ms/step - loss: 3.9716 - accuracy: 0.0477 - val_loss: 3.7000 - val_accuracy: 0.0421\n",
      "Epoch 2/30\n",
      "2500/2500 [==============================] - 54s 21ms/step - loss: 78.4163 - accuracy: 0.0614 - val_loss: 3.7067 - val_accuracy: 0.0481\n",
      "Epoch 3/30\n",
      "2500/2500 [==============================] - 54s 22ms/step - loss: 3.5211 - accuracy: 0.0660 - val_loss: 3.6614 - val_accuracy: 0.0398\n",
      "Epoch 4/30\n",
      "2500/2500 [==============================] - 52s 21ms/step - loss: 3.5135 - accuracy: 0.0682 - val_loss: 3.6217 - val_accuracy: 0.0576\n",
      "Epoch 5/30\n",
      "2500/2500 [==============================] - 52s 21ms/step - loss: 3.4994 - accuracy: 0.0684 - val_loss: 3.6287 - val_accuracy: 0.0457\n",
      "Epoch 6/30\n",
      "2500/2500 [==============================] - 54s 22ms/step - loss: 3.4960 - accuracy: 0.0703 - val_loss: 3.6076 - val_accuracy: 0.0553\n",
      "Epoch 7/30\n",
      "2500/2500 [==============================] - 56s 22ms/step - loss: 3.4916 - accuracy: 0.0692 - val_loss: 3.6427 - val_accuracy: 0.0525\n",
      "Epoch 8/30\n",
      "2500/2500 [==============================] - 55s 22ms/step - loss: 3.4870 - accuracy: 0.0707 - val_loss: 3.6199 - val_accuracy: 0.0480\n",
      "Epoch 9/30\n",
      "2500/2500 [==============================] - 53s 21ms/step - loss: 3.4783 - accuracy: 0.0711 - val_loss: 3.5742 - val_accuracy: 0.0498\n",
      "Epoch 10/30\n",
      "2500/2500 [==============================] - 54s 22ms/step - loss: 3.4733 - accuracy: 0.0728 - val_loss: 3.5996 - val_accuracy: 0.0422\n",
      "Epoch 11/30\n",
      "2500/2500 [==============================] - 54s 21ms/step - loss: 3.4666 - accuracy: 0.0731 - val_loss: 3.5667 - val_accuracy: 0.0556\n",
      "Epoch 12/30\n",
      "2500/2500 [==============================] - 52s 21ms/step - loss: 3.4602 - accuracy: 0.0738 - val_loss: 3.5763 - val_accuracy: 0.0480\n",
      "Epoch 13/30\n",
      "2500/2500 [==============================] - 52s 21ms/step - loss: 3.4572 - accuracy: 0.0740 - val_loss: 3.5951 - val_accuracy: 0.0499\n",
      "Epoch 14/30\n",
      "2500/2500 [==============================] - 52s 21ms/step - loss: 3.4546 - accuracy: 0.0759 - val_loss: 3.5685 - val_accuracy: 0.0404\n",
      "Epoch 15/30\n",
      "2500/2500 [==============================] - 53s 21ms/step - loss: 3.4470 - accuracy: 0.0769 - val_loss: 3.6301 - val_accuracy: 0.0578\n",
      "Epoch 16/30\n",
      "2500/2500 [==============================] - 55s 22ms/step - loss: 3.4401 - accuracy: 0.0760 - val_loss: 3.5659 - val_accuracy: 0.0567\n",
      "Epoch 17/30\n",
      "2500/2500 [==============================] - 52s 21ms/step - loss: 3.4381 - accuracy: 0.0767 - val_loss: 3.5645 - val_accuracy: 0.0490\n",
      "Epoch 18/30\n",
      "2500/2500 [==============================] - 52s 21ms/step - loss: 3.4369 - accuracy: 0.0781 - val_loss: 3.5850 - val_accuracy: 0.0540\n",
      "Epoch 19/30\n",
      "2500/2500 [==============================] - 52s 21ms/step - loss: 3.4325 - accuracy: 0.0775 - val_loss: 3.5461 - val_accuracy: 0.0560\n",
      "Epoch 20/30\n",
      "2500/2500 [==============================] - 51s 21ms/step - loss: 3.4302 - accuracy: 0.0783 - val_loss: 3.5733 - val_accuracy: 0.0547\n",
      "Epoch 21/30\n",
      "2500/2500 [==============================] - 51s 21ms/step - loss: 3.4294 - accuracy: 0.0789 - val_loss: 3.5755 - val_accuracy: 0.0538\n",
      "Epoch 22/30\n",
      "2500/2500 [==============================] - 52s 21ms/step - loss: 3.4274 - accuracy: 0.0783 - val_loss: 3.5688 - val_accuracy: 0.0486\n",
      "Epoch 23/30\n",
      "2500/2500 [==============================] - 52s 21ms/step - loss: 3.4273 - accuracy: 0.0781 - val_loss: 3.6047 - val_accuracy: 0.0494\n",
      "Epoch 24/30\n",
      "2500/2500 [==============================] - 52s 21ms/step - loss: 3.4222 - accuracy: 0.0790 - val_loss: 3.5686 - val_accuracy: 0.0582\n",
      "Epoch 25/30\n",
      "2500/2500 [==============================] - 52s 21ms/step - loss: 3.4227 - accuracy: 0.0790 - val_loss: 3.5563 - val_accuracy: 0.0536\n",
      "Epoch 26/30\n",
      "2500/2500 [==============================] - 51s 21ms/step - loss: 3.4202 - accuracy: 0.0792 - val_loss: 3.5568 - val_accuracy: 0.0517\n",
      "Epoch 27/30\n",
      "2500/2500 [==============================] - 52s 21ms/step - loss: 3.4191 - accuracy: 0.0791 - val_loss: 3.5655 - val_accuracy: 0.0555\n",
      "Epoch 28/30\n",
      "2500/2500 [==============================] - 52s 21ms/step - loss: 3.4174 - accuracy: 0.0796 - val_loss: 3.5763 - val_accuracy: 0.0529\n",
      "Epoch 29/30\n",
      "2500/2500 [==============================] - 52s 21ms/step - loss: 3.4153 - accuracy: 0.0798 - val_loss: 3.5628 - val_accuracy: 0.0573\n",
      "Epoch 30/30\n",
      "2500/2500 [==============================] - 52s 21ms/step - loss: 3.4158 - accuracy: 0.0797 - val_loss: 3.5567 - val_accuracy: 0.0499\n"
     ]
    }
   ],
   "source": [
    "history=model5.fit(histo_train,delta_train,epochs=30,\n",
    "                 validation_data=(histo_valid, delta_valid))"
   ]
  },
  {
   "cell_type": "code",
   "execution_count": 70,
   "id": "objective-steering",
   "metadata": {},
   "outputs": [],
   "source": [
    "model5.save(\"model_5.h5\")"
   ]
  },
  {
   "cell_type": "code",
   "execution_count": 22,
   "id": "relevant-rwanda",
   "metadata": {},
   "outputs": [],
   "source": [
    "model5=keras.models.load_model(\"model_5.h5\")"
   ]
  },
  {
   "cell_type": "code",
   "execution_count": 18,
   "id": "final-profession",
   "metadata": {},
   "outputs": [
    {
     "data": {
      "image/png": "[encoded data removed]",
      "text/plain": [
       "<Figure size 576x360 with 1 Axes>"
      ]
     },
     "metadata": {
      "needs_background": "light"
     },
     "output_type": "display_data"
    }
   ],
   "source": [
    "pd.DataFrame(history.history).plot(figsize=(8, 5))\n",
    "plt.xlabel(\"Epochs\")\n",
    "plt.title(\"Rendimiento\")\n",
    "plt.grid(True)\n",
    "plt.gca().set_ylim(0, 0.2) # set the vertical range to [0-1]\n",
    "plt.show()"
   ]
  },
  {
   "cell_type": "code",
   "execution_count": 23,
   "id": "greenhouse-battlefield",
   "metadata": {},
   "outputs": [
    {
     "name": "stdout",
     "output_type": "stream",
     "text": [
      "Delta= 2.9500000015828216  +-  0.049999998417181314\n"
     ]
    },
    {
     "data": {
      "image/png": "[encoded data removed]",
      "text/plain": [
       "<Figure size 432x288 with 1 Axes>"
      ]
     },
     "metadata": {
      "needs_background": "light"
     },
     "output_type": "display_data"
    }
   ],
   "source": [
    "y_proba=model5.predict(histo_test)\n",
    "y_proba=y_proba*20 #Factor to avoid numercial overflowing\n",
    "\n",
    "Ntraj=10000\n",
    "nu=100\n",
    "nsets=int(Ntraj/nu)\n",
    "Deltamean5=np.zeros(nsets,float)\n",
    "Deltavar=np.zeros(nsets,float)\n",
    "\n",
    "for i in range(0,nsets):\n",
    "    Set=np.product(y_proba[i*nu:(i+1)*nu,:],0)\n",
    "    Norma=np.sum(Set)\n",
    "    Set=Set/Norma\n",
    "    Deltamean5[i]=np.dot(Set,Deltalist)\n",
    "    Deltavar[i]=(Deltamean5[i]-delta_test[0]*dDelta)**2\n",
    "\n",
    "Delta_estimate=np.sum(Deltamean5)/nsets\n",
    "Var=np.sum(Deltavar)/nsets\n",
    "Delta_sigma5=np.sqrt(np.abs(Var))\n",
    "\n",
    "print(\"Delta=\",Delta_estimate,\" +- \",Delta_sigma5)\n",
    "\n",
    "X=np.arange(2)\n",
    "Error=[]\n",
    "Error.append(Delta_sigma5)\n",
    "Error.append(Sigma_classic)\n",
    "\n",
    "plt.bar(X,Error)\n",
    "plt.xticks(X, (\"ANN\", \"MLE\"))\n",
    "plt.ylabel(\"MSE\")\n",
    "plt.ylim([0,0.065])\n",
    "plt.show()    "
   ]
  },
  {
   "cell_type": "code",
   "execution_count": 24,
   "id": "married-aviation",
   "metadata": {},
   "outputs": [
    {
     "data": {
      "image/png": "[encoded data removed]",
      "text/plain": [
       "<Figure size 432x288 with 1 Axes>"
      ]
     },
     "metadata": {
      "needs_background": "light"
     },
     "output_type": "display_data"
    }
   ],
   "source": [
    "plt.hist(Deltamean5,align=\"left\" , label=\"ANN\", rwidth=0.8)\n",
    "plt.hist(Deltaclassiclist, align=\"right\", label=\"MLE\",rwidth=0.3)\n",
    "plt.xlabel(\"\\u0394\")\n",
    "plt.ylabel(\"Frequency\")\n",
    "plt.legend()\n",
    "plt.show()"
   ]
  },
  {
   "cell_type": "markdown",
   "id": "paperback-contemporary",
   "metadata": {},
   "source": [
    "### 6) Recurrent network  -   Input: absolute times  - Output: single-neuron\n",
    "\n",
    "We need to make a little adjustment to our data to see the performance with absolute times instead of time-delays"
   ]
  },
  {
   "cell_type": "code",
   "execution_count": 26,
   "id": "convinced-switzerland",
   "metadata": {},
   "outputs": [],
   "source": [
    "abs_train=np.zeros([80000,njumps],float)\n",
    "abs_valid=np.zeros([20000,njumps],float)\n",
    "abs_test=np.zeros([10000,njumps],float)\n",
    "\n",
    "abs_train[:,0]=delay_train[:,0] #First jump\n",
    "abs_valid[:,0]=delay_valid[:,0] \n",
    "abs_test[:,0]=delay_test[:,0]\n",
    "\n",
    "for i in range(0,80000):\n",
    "    for j in range(1,njumps):\n",
    "        abs_train[i,j]=abs_train[i,j-1]+delay_train[i,j]\n",
    "        \n",
    "for i in range(0,20000):\n",
    "    for j in range(1,njumps):\n",
    "        abs_valid[i,j]=abs_valid[i,j-1]+delay_valid[i,j]\n",
    "        \n",
    "for i in range(0,10000):\n",
    "    for j in range(1,njumps):\n",
    "        abs_test[i,j]=abs_test[i,j-1]+delay_test[i,j]\n"
   ]
  },
  {
   "cell_type": "code",
   "execution_count": 27,
   "id": "portuguese-compact",
   "metadata": {},
   "outputs": [
    {
     "name": "stdout",
     "output_type": "stream",
     "text": [
      "Model: \"sequential_1\"\n",
      "_________________________________________________________________\n",
      " Layer (type)                Output Shape              Param #   \n",
      "=================================================================\n",
      " lstm_1 (LSTM)               (None, 20)                1760      \n",
      "                                                                 \n",
      " dense_1 (Dense)             (None, 1)                 21        \n",
      "                                                                 \n",
      "=================================================================\n",
      "Total params: 1,781\n",
      "Trainable params: 1,781\n",
      "Non-trainable params: 0\n",
      "_________________________________________________________________\n",
      "None\n"
     ]
    }
   ],
   "source": [
    "model6=keras.models.Sequential()\n",
    "model6.add(keras.Input(shape=(njumps,1)))\n",
    "model6.add(keras.layers.LSTM(20, return_sequences=False, activation=\"relu\"))\n",
    "model6.add(keras.layers.Dense(1))\n",
    "\n",
    "model6.compile(loss=\"mse\",\n",
    "             optimizer=\"adam\",\n",
    "             metrics=[\"MeanSquaredError\"])\n",
    "\n",
    "print(model6.summary())"
   ]
  },
  {
   "cell_type": "code",
   "execution_count": 29,
   "id": "threatened-identifier",
   "metadata": {},
   "outputs": [
    {
     "name": "stdout",
     "output_type": "stream",
     "text": [
      "Epoch 1/30\n",
      "2500/2500 [==============================] - 27s 11ms/step - loss: 78006.9922 - mean_squared_error: 78006.9922 - val_loss: 71748.7734 - val_mean_squared_error: 71748.7734\n",
      "Epoch 2/30\n",
      "2500/2500 [==============================] - 30s 12ms/step - loss: 124130.1406 - mean_squared_error: 124130.1406 - val_loss: 62294.3984 - val_mean_squared_error: 62294.3984\n",
      "Epoch 3/30\n",
      "2500/2500 [==============================] - 28s 11ms/step - loss: 176916.6094 - mean_squared_error: 176916.6094 - val_loss: 154418.5156 - val_mean_squared_error: 154418.5156\n",
      "Epoch 4/30\n",
      "2500/2500 [==============================] - 27s 11ms/step - loss: 162061.3281 - mean_squared_error: 162061.3281 - val_loss: 58585.8242 - val_mean_squared_error: 58585.8242\n",
      "Epoch 5/30\n",
      "2500/2500 [==============================] - 27s 11ms/step - loss: 175065.0156 - mean_squared_error: 175065.0156 - val_loss: 297431.8438 - val_mean_squared_error: 297431.8438\n",
      "Epoch 6/30\n",
      "2500/2500 [==============================] - 27s 11ms/step - loss: 337114176.0000 - mean_squared_error: 337114176.0000 - val_loss: 1494108.8750 - val_mean_squared_error: 1494108.8750\n",
      "Epoch 7/30\n",
      "2500/2500 [==============================] - 27s 11ms/step - loss: 1266457.5000 - mean_squared_error: 1266457.5000 - val_loss: 776703.6250 - val_mean_squared_error: 776703.6250\n",
      "Epoch 8/30\n",
      "2500/2500 [==============================] - 27s 11ms/step - loss: 563587.6250 - mean_squared_error: 563587.6250 - val_loss: 296965.3125 - val_mean_squared_error: 296965.3125\n",
      "Epoch 9/30\n",
      "2500/2500 [==============================] - 30s 12ms/step - loss: 220576.3906 - mean_squared_error: 220576.3906 - val_loss: 125687.8047 - val_mean_squared_error: 125687.8047\n",
      "Epoch 10/30\n",
      "2500/2500 [==============================] - 27s 11ms/step - loss: 4946647.0000 - mean_squared_error: 4946647.0000 - val_loss: 79856.4297 - val_mean_squared_error: 79856.4297\n",
      "Epoch 11/30\n",
      "2500/2500 [==============================] - 27s 11ms/step - loss: 99096.1328 - mean_squared_error: 99096.1328 - val_loss: 205386.0625 - val_mean_squared_error: 205386.0625\n",
      "Epoch 12/30\n",
      "2500/2500 [==============================] - 27s 11ms/step - loss: 58555.3281 - mean_squared_error: 58555.3281 - val_loss: 16207.6611 - val_mean_squared_error: 16207.6611\n",
      "Epoch 13/30\n",
      "2500/2500 [==============================] - 27s 11ms/step - loss: 14167.0498 - mean_squared_error: 14167.0498 - val_loss: 6021.8296 - val_mean_squared_error: 6021.8296\n",
      "Epoch 14/30\n",
      "2500/2500 [==============================] - 28s 11ms/step - loss: 5624.6724 - mean_squared_error: 5624.6724 - val_loss: 2283.0566 - val_mean_squared_error: 2283.0566\n",
      "Epoch 15/30\n",
      "2500/2500 [==============================] - 27s 11ms/step - loss: 6193067.0000 - mean_squared_error: 6193067.0000 - val_loss: 22028.2539 - val_mean_squared_error: 22028.2539\n",
      "Epoch 16/30\n",
      "2500/2500 [==============================] - 27s 11ms/step - loss: 4723603.5000 - mean_squared_error: 4723603.5000 - val_loss: 5079537.0000 - val_mean_squared_error: 5079537.0000\n",
      "Epoch 17/30\n",
      "2500/2500 [==============================] - 28s 11ms/step - loss: 2903585.7500 - mean_squared_error: 2903585.7500 - val_loss: 920504.8125 - val_mean_squared_error: 920504.8125\n",
      "Epoch 18/30\n",
      "2500/2500 [==============================] - 27s 11ms/step - loss: 525629.0625 - mean_squared_error: 525629.0625 - val_loss: 182673.4062 - val_mean_squared_error: 182673.4062\n",
      "Epoch 19/30\n",
      "2500/2500 [==============================] - 27s 11ms/step - loss: 76433.3906 - mean_squared_error: 76433.3906 - val_loss: 23219.4180 - val_mean_squared_error: 23219.4180\n",
      "Epoch 20/30\n",
      "2500/2500 [==============================] - 27s 11ms/step - loss: 6134.7178 - mean_squared_error: 6134.7178 - val_loss: 3748.9673 - val_mean_squared_error: 3748.9673\n",
      "Epoch 21/30\n",
      "2500/2500 [==============================] - 27s 11ms/step - loss: 7257.2026 - mean_squared_error: 7257.2026 - val_loss: 3042.4597 - val_mean_squared_error: 3042.4597\n",
      "Epoch 22/30\n",
      "2500/2500 [==============================] - 27s 11ms/step - loss: 1771.6874 - mean_squared_error: 1771.6874 - val_loss: 738.9448 - val_mean_squared_error: 738.9448\n",
      "Epoch 23/30\n",
      "2500/2500 [==============================] - 27s 11ms/step - loss: 563.7535 - mean_squared_error: 563.7535 - val_loss: 154.8376 - val_mean_squared_error: 154.8376\n",
      "Epoch 24/30\n",
      "2500/2500 [==============================] - 27s 11ms/step - loss: 55.6606 - mean_squared_error: 55.6606 - val_loss: 6.8931 - val_mean_squared_error: 6.8931\n",
      "Epoch 25/30\n",
      "2500/2500 [==============================] - 27s 11ms/step - loss: 9.3949 - mean_squared_error: 9.3949 - val_loss: 8.6847 - val_mean_squared_error: 8.6847\n",
      "Epoch 26/30\n",
      "2500/2500 [==============================] - 27s 11ms/step - loss: 7.6793 - mean_squared_error: 7.6793 - val_loss: 12.2102 - val_mean_squared_error: 12.2102\n",
      "Epoch 27/30\n",
      "2500/2500 [==============================] - 27s 11ms/step - loss: 9.9700 - mean_squared_error: 9.9700 - val_loss: 5.3206 - val_mean_squared_error: 5.3206\n",
      "Epoch 28/30\n",
      "2500/2500 [==============================] - 27s 11ms/step - loss: 131.2821 - mean_squared_error: 131.2821 - val_loss: 102.9700 - val_mean_squared_error: 102.9700\n",
      "Epoch 29/30\n",
      "2500/2500 [==============================] - 27s 11ms/step - loss: 143.9685 - mean_squared_error: 143.9685 - val_loss: 41.2870 - val_mean_squared_error: 41.2870\n",
      "Epoch 30/30\n",
      "2500/2500 [==============================] - 27s 11ms/step - loss: 100.5744 - mean_squared_error: 100.5744 - val_loss: 3.6200 - val_mean_squared_error: 3.6200\n"
     ]
    }
   ],
   "source": [
    "history=model6.fit(abs_train,delta_train*dDelta,epochs=30,\n",
    "                 validation_data=(abs_valid, delta_valid*dDelta))"
   ]
  },
  {
   "cell_type": "code",
   "execution_count": 26,
   "id": "employed-token",
   "metadata": {},
   "outputs": [],
   "source": [
    "model6.save(\"model_6.h5\")"
   ]
  },
  {
   "cell_type": "code",
   "execution_count": 30,
   "id": "center-transfer",
   "metadata": {},
   "outputs": [],
   "source": [
    "model6=keras.models.load_model(\"model_6.h5\")"
   ]
  },
  {
   "cell_type": "code",
   "execution_count": 34,
   "id": "ecological-heavy",
   "metadata": {},
   "outputs": [
    {
     "data": {
      "image/png": "[encoded data removed]",
      "text/plain": [
       "<Figure size 576x360 with 1 Axes>"
      ]
     },
     "metadata": {
      "needs_background": "light"
     },
     "output_type": "display_data"
    }
   ],
   "source": [
    "pd.DataFrame(history.history).plot(figsize=(8, 5))\n",
    "plt.xlabel(\"Epochs\")\n",
    "plt.title(\"Rendimiento\")\n",
    "plt.grid(True)\n",
    "plt.gca().set_ylim(0, 10000) # set the vertical range to [0-1]\n",
    "plt.show()"
   ]
  },
  {
   "cell_type": "code",
   "execution_count": 32,
   "id": "daily-transparency",
   "metadata": {},
   "outputs": [
    {
     "name": "stdout",
     "output_type": "stream",
     "text": [
      "Delta= 3.2649150390624997  +-  0.26684121946191797\n"
     ]
    },
    {
     "data": {
      "image/png": "[encoded data removed]",
      "text/plain": [
       "<Figure size 432x288 with 1 Axes>"
      ]
     },
     "metadata": {
      "needs_background": "light"
     },
     "output_type": "display_data"
    }
   ],
   "source": [
    "y_proba=model6.predict(abs_test)\n",
    "\n",
    "Ntraj=10000\n",
    "nu=100\n",
    "nsets=int(Ntraj/nu)\n",
    "Deltamean6=np.zeros(nsets,float)\n",
    "Deltavar=np.zeros(nsets,float)\n",
    "\n",
    "for i in range(0,nsets):\n",
    "    Deltamean6[i]=np.sum(y_proba[i*nu:(i+1)*nu])/nu\n",
    "    Deltavar[i]=(Deltamean6[i]-delta_test[0]*dDelta)**2\n",
    "\n",
    "Delta_estimate=np.sum(Deltamean6)/nsets\n",
    "Var=np.sum(Deltavar)/nsets\n",
    "Delta_sigma6=np.sqrt(np.abs(Var))\n",
    "\n",
    "print(\"Delta=\",Delta_estimate,\" +- \",Delta_sigma6)\n",
    "\n",
    "X=np.arange(2)\n",
    "Error=[]\n",
    "Error.append(Delta_sigma6)\n",
    "Error.append(Sigma_classic)\n",
    "\n",
    "plt.bar(X,Error)\n",
    "plt.xticks(X, (\"ANN\", \"MLE\"))\n",
    "plt.ylabel(\"MSE\")\n",
    "plt.ylim([0,0.3])\n",
    "plt.show()    "
   ]
  },
  {
   "cell_type": "code",
   "execution_count": 33,
   "id": "private-advocacy",
   "metadata": {},
   "outputs": [
    {
     "data": {
      "image/png": "[encoded data removed]",
      "text/plain": [
       "<Figure size 432x288 with 1 Axes>"
      ]
     },
     "metadata": {
      "needs_background": "light"
     },
     "output_type": "display_data"
    }
   ],
   "source": [
    "plt.hist(Deltamean6,align=\"left\" , label=\"ANN\", rwidth=0.8)\n",
    "plt.hist(Deltaclassiclist, align=\"right\", label=\"MLE\",rwidth=0.8)\n",
    "plt.xlabel(\"\\u0394\")\n",
    "plt.ylabel(\"Frequency\")\n",
    "plt.legend()\n",
    "plt.show()"
   ]
  },
  {
   "cell_type": "markdown",
   "id": "liable-membrane",
   "metadata": {},
   "source": [
    "### 7) Recurrent network  -   Input: absolute times  - Output: single-neuron"
   ]
  },
  {
   "cell_type": "code",
   "execution_count": 94,
   "id": "proud-jason",
   "metadata": {},
   "outputs": [
    {
     "name": "stdout",
     "output_type": "stream",
     "text": [
      "Model: \"sequential_8\"\n",
      "_________________________________________________________________\n",
      " Layer (type)                Output Shape              Param #   \n",
      "=================================================================\n",
      " dense_11 (Dense)            (None, 50)                2550      \n",
      "                                                                 \n",
      " dense_12 (Dense)            (None, 17)                867       \n",
      "                                                                 \n",
      " dense_13 (Dense)            (None, 17)                306       \n",
      "                                                                 \n",
      " dense_14 (Dense)            (None, 1)                 18        \n",
      "                                                                 \n",
      "=================================================================\n",
      "Total params: 3,741\n",
      "Trainable params: 3,741\n",
      "Non-trainable params: 0\n",
      "_________________________________________________________________\n",
      "None\n"
     ]
    }
   ],
   "source": [
    "model7=keras.models.Sequential()\n",
    "model7.add(keras.layers.Dense(num_bins, activation=\"relu\", input_shape=[num_bins]))\n",
    "model7.add(keras.layers.Dense(17, activation=\"relu\"))\n",
    "model7.add(keras.layers.Dense(17, activation=\"relu\"))\n",
    "model7.add(keras.layers.Dense(1))\n",
    "\n",
    "model7.compile(loss=\"mse\",\n",
    "             optimizer=\"adam\",\n",
    "             metrics=[\"MeanSquaredError\"])\n",
    "\n",
    "print(model7.summary())"
   ]
  },
  {
   "cell_type": "code",
   "execution_count": 95,
   "id": "dramatic-elder",
   "metadata": {},
   "outputs": [
    {
     "name": "stdout",
     "output_type": "stream",
     "text": [
      "Epoch 1/30\n",
      "2500/2500 [==============================] - 4s 1ms/step - loss: 3194.8350 - mean_squared_error: 3194.8350 - val_loss: 18.2502 - val_mean_squared_error: 18.2502\n",
      "Epoch 2/30\n",
      "2500/2500 [==============================] - 3s 1ms/step - loss: 6.6243 - mean_squared_error: 6.6243 - val_loss: 1.1531 - val_mean_squared_error: 1.1531\n",
      "Epoch 3/30\n",
      "2500/2500 [==============================] - 3s 1ms/step - loss: 1.7941 - mean_squared_error: 1.7941 - val_loss: 1.3341 - val_mean_squared_error: 1.3341\n",
      "Epoch 4/30\n",
      "2500/2500 [==============================] - 3s 1ms/step - loss: 2.0175 - mean_squared_error: 2.0175 - val_loss: 1.3585 - val_mean_squared_error: 1.3585\n",
      "Epoch 5/30\n",
      "2500/2500 [==============================] - 3s 1ms/step - loss: 1.5930 - mean_squared_error: 1.5930 - val_loss: 3.3218 - val_mean_squared_error: 3.3218\n",
      "Epoch 6/30\n",
      "2500/2500 [==============================] - 3s 1ms/step - loss: 1.8512 - mean_squared_error: 1.8512 - val_loss: 1.2032 - val_mean_squared_error: 1.2032\n",
      "Epoch 7/30\n",
      "2500/2500 [==============================] - 3s 1ms/step - loss: 1.6441 - mean_squared_error: 1.6441 - val_loss: 1.4839 - val_mean_squared_error: 1.4839\n",
      "Epoch 8/30\n",
      "2500/2500 [==============================] - 3s 1ms/step - loss: 1.0846 - mean_squared_error: 1.0846 - val_loss: 0.9406 - val_mean_squared_error: 0.9406\n",
      "Epoch 9/30\n",
      "2500/2500 [==============================] - 3s 1ms/step - loss: 1.0997 - mean_squared_error: 1.0997 - val_loss: 0.9254 - val_mean_squared_error: 0.9254\n",
      "Epoch 10/30\n",
      "2500/2500 [==============================] - 3s 1ms/step - loss: 0.9107 - mean_squared_error: 0.9107 - val_loss: 0.7005 - val_mean_squared_error: 0.7005\n",
      "Epoch 11/30\n",
      "2500/2500 [==============================] - 3s 1ms/step - loss: 0.5300 - mean_squared_error: 0.5300 - val_loss: 0.3606 - val_mean_squared_error: 0.3606\n",
      "Epoch 12/30\n",
      "2500/2500 [==============================] - 3s 1ms/step - loss: 0.3710 - mean_squared_error: 0.3710 - val_loss: 0.6083 - val_mean_squared_error: 0.6083\n",
      "Epoch 13/30\n",
      "2500/2500 [==============================] - 3s 1ms/step - loss: 0.3647 - mean_squared_error: 0.3647 - val_loss: 0.3098 - val_mean_squared_error: 0.3098\n",
      "Epoch 14/30\n",
      "2500/2500 [==============================] - 3s 1ms/step - loss: 0.3341 - mean_squared_error: 0.3341 - val_loss: 0.3276 - val_mean_squared_error: 0.3276\n",
      "Epoch 15/30\n",
      "2500/2500 [==============================] - 3s 1ms/step - loss: 0.3296 - mean_squared_error: 0.3296 - val_loss: 0.3191 - val_mean_squared_error: 0.3191\n",
      "Epoch 16/30\n",
      "2500/2500 [==============================] - 3s 1ms/step - loss: 0.3280 - mean_squared_error: 0.3280 - val_loss: 0.6217 - val_mean_squared_error: 0.6217\n",
      "Epoch 17/30\n",
      "2500/2500 [==============================] - 3s 1ms/step - loss: 0.3204 - mean_squared_error: 0.3204 - val_loss: 0.3741 - val_mean_squared_error: 0.3741\n",
      "Epoch 18/30\n",
      "2500/2500 [==============================] - 3s 1ms/step - loss: 0.3213 - mean_squared_error: 0.3213 - val_loss: 0.3099 - val_mean_squared_error: 0.3099\n",
      "Epoch 19/30\n",
      "2500/2500 [==============================] - 3s 1ms/step - loss: 0.3175 - mean_squared_error: 0.3175 - val_loss: 0.2973 - val_mean_squared_error: 0.2973\n",
      "Epoch 20/30\n",
      "2500/2500 [==============================] - 3s 1ms/step - loss: 0.3096 - mean_squared_error: 0.3096 - val_loss: 0.2931 - val_mean_squared_error: 0.2931\n",
      "Epoch 21/30\n",
      "2500/2500 [==============================] - 3s 1ms/step - loss: 0.3076 - mean_squared_error: 0.3076 - val_loss: 0.2931 - val_mean_squared_error: 0.2931\n",
      "Epoch 22/30\n",
      "2500/2500 [==============================] - 3s 1ms/step - loss: 0.2963 - mean_squared_error: 0.2963 - val_loss: 0.2842 - val_mean_squared_error: 0.2842\n",
      "Epoch 23/30\n",
      "2500/2500 [==============================] - 3s 1ms/step - loss: 0.2924 - mean_squared_error: 0.2924 - val_loss: 0.3859 - val_mean_squared_error: 0.3859\n",
      "Epoch 24/30\n",
      "2500/2500 [==============================] - 3s 1ms/step - loss: 0.2836 - mean_squared_error: 0.2836 - val_loss: 0.2685 - val_mean_squared_error: 0.2685\n",
      "Epoch 25/30\n",
      "2500/2500 [==============================] - 3s 1ms/step - loss: 0.2728 - mean_squared_error: 0.2728 - val_loss: 0.2646 - val_mean_squared_error: 0.2646\n",
      "Epoch 26/30\n",
      "2500/2500 [==============================] - 3s 1ms/step - loss: 0.2580 - mean_squared_error: 0.2580 - val_loss: 0.2420 - val_mean_squared_error: 0.2420\n",
      "Epoch 27/30\n",
      "2500/2500 [==============================] - 3s 1ms/step - loss: 0.2352 - mean_squared_error: 0.2352 - val_loss: 0.2007 - val_mean_squared_error: 0.2007\n",
      "Epoch 28/30\n",
      "2500/2500 [==============================] - 3s 1ms/step - loss: 0.2091 - mean_squared_error: 0.2091 - val_loss: 0.2028 - val_mean_squared_error: 0.2028\n",
      "Epoch 29/30\n",
      "2500/2500 [==============================] - 3s 1ms/step - loss: 0.2040 - mean_squared_error: 0.2040 - val_loss: 0.1846 - val_mean_squared_error: 0.1846\n",
      "Epoch 30/30\n",
      "2500/2500 [==============================] - 3s 1ms/step - loss: 0.2017 - mean_squared_error: 0.2017 - val_loss: 0.1783 - val_mean_squared_error: 0.1783\n"
     ]
    }
   ],
   "source": [
    "history=model7.fit(abs_train,delta_train*dDelta,epochs=30,\n",
    "                 validation_data=(abs_valid, delta_valid*dDelta))"
   ]
  },
  {
   "cell_type": "code",
   "execution_count": 96,
   "id": "touched-jumping",
   "metadata": {},
   "outputs": [],
   "source": [
    "model7.save(\"model_7.h5\")"
   ]
  },
  {
   "cell_type": "code",
   "execution_count": 35,
   "id": "rental-egypt",
   "metadata": {},
   "outputs": [],
   "source": [
    "model7=keras.models.load_model(\"model_7.h5\")"
   ]
  },
  {
   "cell_type": "code",
   "execution_count": 97,
   "id": "normal-subject",
   "metadata": {},
   "outputs": [
    {
     "data": {
      "image/png": "[encoded data removed]",
      "text/plain": [
       "<Figure size 576x360 with 1 Axes>"
      ]
     },
     "metadata": {
      "needs_background": "light"
     },
     "output_type": "display_data"
    }
   ],
   "source": [
    "pd.DataFrame(history.history).plot(figsize=(8, 5))\n",
    "plt.xlabel(\"Epochs\")\n",
    "plt.title(\"Rendimiento\")\n",
    "plt.grid(True)\n",
    "plt.gca().set_ylim(0, 10) # set the vertical range to [0-1]\n",
    "plt.show()"
   ]
  },
  {
   "cell_type": "code",
   "execution_count": 37,
   "id": "female-bread",
   "metadata": {},
   "outputs": [
    {
     "name": "stdout",
     "output_type": "stream",
     "text": [
      "Delta= 2.9561382812500003  +-  0.05026022953932933\n"
     ]
    },
    {
     "data": {
      "image/png": "[encoded data removed]",
      "text/plain": [
       "<Figure size 432x288 with 1 Axes>"
      ]
     },
     "metadata": {
      "needs_background": "light"
     },
     "output_type": "display_data"
    }
   ],
   "source": [
    "y_proba=model7.predict(abs_test)\n",
    "\n",
    "Ntraj=10000\n",
    "nu=100\n",
    "nsets=int(Ntraj/nu)\n",
    "Deltamean7=np.zeros(nsets,float)\n",
    "Deltavar=np.zeros(nsets,float)\n",
    "\n",
    "for i in range(0,nsets):\n",
    "    Deltamean7[i]=np.sum(y_proba[i*nu:(i+1)*nu])/nu\n",
    "    Deltavar[i]=(Deltamean7[i]-delta_test[0]*dDelta)**2\n",
    "\n",
    "Delta_estimate=np.sum(Deltamean7)/nsets\n",
    "Var=np.sum(Deltavar)/nsets\n",
    "Delta_sigma7=np.sqrt(np.abs(Var))\n",
    "\n",
    "print(\"Delta=\",Delta_estimate,\" +- \",Delta_sigma7)\n",
    "\n",
    "X=np.arange(2)\n",
    "Error=[]\n",
    "Error.append(Delta_sigma7)\n",
    "Error.append(Sigma_classic)\n",
    "\n",
    "plt.bar(X,Error)\n",
    "plt.xticks(X, (\"ANN\", \"MLE\"))\n",
    "plt.ylabel(\"MSE\")\n",
    "plt.ylim([0,0.06])\n",
    "plt.show() "
   ]
  },
  {
   "cell_type": "code",
   "execution_count": 38,
   "id": "boxed-lucas",
   "metadata": {},
   "outputs": [
    {
     "data": {
      "image/png": "[encoded data removed]",
      "text/plain": [
       "<Figure size 432x288 with 1 Axes>"
      ]
     },
     "metadata": {
      "needs_background": "light"
     },
     "output_type": "display_data"
    }
   ],
   "source": [
    "plt.hist(Deltamean7,align=\"left\" , label=\"ANN\", rwidth=0.8)\n",
    "plt.hist(Deltaclassiclist, align=\"right\", label=\"MLE\",rwidth=0.8)\n",
    "plt.xlabel(\"\\u0394\")\n",
    "plt.ylabel(\"Frequency\")\n",
    "plt.legend()\n",
    "plt.show()"
   ]
  },
  {
   "cell_type": "markdown",
   "id": "technological-heritage",
   "metadata": {},
   "source": [
    "### 8) Dense network  -   Input: time-delays  - Output: single-output"
   ]
  },
  {
   "cell_type": "code",
   "execution_count": 31,
   "id": "interesting-coating",
   "metadata": {},
   "outputs": [
    {
     "name": "stdout",
     "output_type": "stream",
     "text": [
      "Model: \"sequential_2\"\n",
      "_________________________________________________________________\n",
      " Layer (type)                Output Shape              Param #   \n",
      "=================================================================\n",
      " dense_2 (Dense)             (None, 50)                2550      \n",
      "                                                                 \n",
      " dense_3 (Dense)             (None, 17)                867       \n",
      "                                                                 \n",
      " dense_4 (Dense)             (None, 17)                306       \n",
      "                                                                 \n",
      " dense_5 (Dense)             (None, 1)                 18        \n",
      "                                                                 \n",
      "=================================================================\n",
      "Total params: 3,741\n",
      "Trainable params: 3,741\n",
      "Non-trainable params: 0\n",
      "_________________________________________________________________\n",
      "None\n"
     ]
    }
   ],
   "source": [
    "model8=keras.models.Sequential()\n",
    "model8.add(keras.layers.Dense(num_bins, activation=\"relu\", input_shape=[num_bins]))\n",
    "model8.add(keras.layers.Dense(17, activation=\"relu\"))\n",
    "model8.add(keras.layers.Dense(17, activation=\"relu\"))\n",
    "model8.add(keras.layers.Dense(1))\n",
    "\n",
    "model8.compile(loss=\"mse\",\n",
    "             optimizer=\"adam\",\n",
    "             metrics=[\"MeanSquaredError\"])\n",
    "\n",
    "print(model8.summary())"
   ]
  },
  {
   "cell_type": "code",
   "execution_count": 32,
   "id": "reported-pointer",
   "metadata": {},
   "outputs": [
    {
     "name": "stdout",
     "output_type": "stream",
     "text": [
      "Epoch 1/30\n",
      "2500/2500 [==============================] - 4s 1ms/step - loss: 3.0623 - mean_squared_error: 3.0623 - val_loss: 1.0332 - val_mean_squared_error: 1.0332\n",
      "Epoch 2/30\n",
      "2500/2500 [==============================] - 3s 1ms/step - loss: 0.8918 - mean_squared_error: 0.8918 - val_loss: 0.7233 - val_mean_squared_error: 0.7233\n",
      "Epoch 3/30\n",
      "2500/2500 [==============================] - 4s 1ms/step - loss: 0.4826 - mean_squared_error: 0.4826 - val_loss: 0.2960 - val_mean_squared_error: 0.2960\n",
      "Epoch 4/30\n",
      "2500/2500 [==============================] - 3s 1ms/step - loss: 0.2739 - mean_squared_error: 0.2739 - val_loss: 0.2325 - val_mean_squared_error: 0.2325\n",
      "Epoch 5/30\n",
      "2500/2500 [==============================] - 3s 1ms/step - loss: 0.2506 - mean_squared_error: 0.2506 - val_loss: 0.2277 - val_mean_squared_error: 0.2277\n",
      "Epoch 6/30\n",
      "2500/2500 [==============================] - 3s 1ms/step - loss: 0.2393 - mean_squared_error: 0.2393 - val_loss: 0.2303 - val_mean_squared_error: 0.2303\n",
      "Epoch 7/30\n",
      "2500/2500 [==============================] - 3s 1ms/step - loss: 0.2322 - mean_squared_error: 0.2322 - val_loss: 0.2209 - val_mean_squared_error: 0.2209\n",
      "Epoch 8/30\n",
      "2500/2500 [==============================] - 3s 1ms/step - loss: 0.2295 - mean_squared_error: 0.2295 - val_loss: 0.2262 - val_mean_squared_error: 0.2262\n",
      "Epoch 9/30\n",
      "2500/2500 [==============================] - 4s 1ms/step - loss: 0.2228 - mean_squared_error: 0.2228 - val_loss: 0.2058 - val_mean_squared_error: 0.2058\n",
      "Epoch 10/30\n",
      "2500/2500 [==============================] - 4s 1ms/step - loss: 0.2152 - mean_squared_error: 0.2152 - val_loss: 0.2054 - val_mean_squared_error: 0.2054\n",
      "Epoch 11/30\n",
      "2500/2500 [==============================] - 4s 1ms/step - loss: 0.2092 - mean_squared_error: 0.2092 - val_loss: 0.1947 - val_mean_squared_error: 0.1947\n",
      "Epoch 12/30\n",
      "2500/2500 [==============================] - 4s 1ms/step - loss: 0.2051 - mean_squared_error: 0.2051 - val_loss: 0.2051 - val_mean_squared_error: 0.2051\n",
      "Epoch 13/30\n",
      "2500/2500 [==============================] - 3s 1ms/step - loss: 0.2009 - mean_squared_error: 0.2009 - val_loss: 0.1846 - val_mean_squared_error: 0.1846\n",
      "Epoch 14/30\n",
      "2500/2500 [==============================] - 4s 1ms/step - loss: 0.1962 - mean_squared_error: 0.1962 - val_loss: 0.1809 - val_mean_squared_error: 0.1809\n",
      "Epoch 15/30\n",
      "2500/2500 [==============================] - 4s 1ms/step - loss: 0.1934 - mean_squared_error: 0.1934 - val_loss: 0.1877 - val_mean_squared_error: 0.1877\n",
      "Epoch 16/30\n",
      "2500/2500 [==============================] - 3s 1ms/step - loss: 0.1920 - mean_squared_error: 0.1920 - val_loss: 0.1808 - val_mean_squared_error: 0.1808\n",
      "Epoch 17/30\n",
      "2500/2500 [==============================] - 3s 1ms/step - loss: 0.1901 - mean_squared_error: 0.1901 - val_loss: 0.1809 - val_mean_squared_error: 0.1809\n",
      "Epoch 18/30\n",
      "2500/2500 [==============================] - 4s 2ms/step - loss: 0.1897 - mean_squared_error: 0.1897 - val_loss: 0.1890 - val_mean_squared_error: 0.1890\n",
      "Epoch 19/30\n",
      "2500/2500 [==============================] - 3s 1ms/step - loss: 0.1876 - mean_squared_error: 0.1876 - val_loss: 0.1749 - val_mean_squared_error: 0.1749\n",
      "Epoch 20/30\n",
      "2500/2500 [==============================] - 3s 1ms/step - loss: 0.1862 - mean_squared_error: 0.1862 - val_loss: 0.1741 - val_mean_squared_error: 0.1741\n",
      "Epoch 21/30\n",
      "2500/2500 [==============================] - 4s 1ms/step - loss: 0.1850 - mean_squared_error: 0.1850 - val_loss: 0.1792 - val_mean_squared_error: 0.1792\n",
      "Epoch 22/30\n",
      "2500/2500 [==============================] - 3s 1ms/step - loss: 0.1842 - mean_squared_error: 0.1842 - val_loss: 0.1843 - val_mean_squared_error: 0.1843\n",
      "Epoch 23/30\n",
      "2500/2500 [==============================] - 4s 1ms/step - loss: 0.1843 - mean_squared_error: 0.1843 - val_loss: 0.1793 - val_mean_squared_error: 0.1793\n",
      "Epoch 24/30\n",
      "2500/2500 [==============================] - 4s 1ms/step - loss: 0.1841 - mean_squared_error: 0.1841 - val_loss: 0.1797 - val_mean_squared_error: 0.1797\n",
      "Epoch 25/30\n",
      "2500/2500 [==============================] - 4s 1ms/step - loss: 0.1833 - mean_squared_error: 0.1833 - val_loss: 0.1836 - val_mean_squared_error: 0.1836\n",
      "Epoch 26/30\n",
      "2500/2500 [==============================] - 4s 1ms/step - loss: 0.1828 - mean_squared_error: 0.1828 - val_loss: 0.1832 - val_mean_squared_error: 0.1832\n",
      "Epoch 27/30\n",
      "2500/2500 [==============================] - 3s 1ms/step - loss: 0.1831 - mean_squared_error: 0.1831 - val_loss: 0.1739 - val_mean_squared_error: 0.1739\n",
      "Epoch 28/30\n",
      "2500/2500 [==============================] - 3s 1ms/step - loss: 0.1823 - mean_squared_error: 0.1823 - val_loss: 0.1751 - val_mean_squared_error: 0.1751\n",
      "Epoch 29/30\n",
      "2500/2500 [==============================] - 3s 1ms/step - loss: 0.1819 - mean_squared_error: 0.1819 - val_loss: 0.1790 - val_mean_squared_error: 0.1790\n",
      "Epoch 30/30\n",
      "2500/2500 [==============================] - 4s 1ms/step - loss: 0.1824 - mean_squared_error: 0.1824 - val_loss: 0.1767 - val_mean_squared_error: 0.1767\n"
     ]
    }
   ],
   "source": [
    "history=model8.fit(delay_train,delta_train*dDelta,epochs=30,\n",
    "                 validation_data=(delay_valid, delta_valid*dDelta))"
   ]
  },
  {
   "cell_type": "code",
   "execution_count": 33,
   "id": "choice-defense",
   "metadata": {},
   "outputs": [],
   "source": [
    "model8.save(\"model_8.h5\")"
   ]
  },
  {
   "cell_type": "code",
   "execution_count": 39,
   "id": "packed-greek",
   "metadata": {},
   "outputs": [],
   "source": [
    "model8=keras.models.load_model(\"model_8.h5\")"
   ]
  },
  {
   "cell_type": "code",
   "execution_count": 34,
   "id": "monthly-hardware",
   "metadata": {},
   "outputs": [
    {
     "data": {
      "image/png": "[encoded data removed]",
      "text/plain": [
       "<Figure size 576x360 with 1 Axes>"
      ]
     },
     "metadata": {
      "needs_background": "light"
     },
     "output_type": "display_data"
    }
   ],
   "source": [
    "pd.DataFrame(history.history).plot(figsize=(8, 5))\n",
    "plt.xlabel(\"Epochs\")\n",
    "plt.title(\"Rendimiento\")\n",
    "plt.grid(True)\n",
    "plt.gca().set_ylim(0, 10) # set the vertical range to [0-1]\n",
    "plt.show()"
   ]
  },
  {
   "cell_type": "code",
   "execution_count": 40,
   "id": "downtown-rabbit",
   "metadata": {},
   "outputs": [
    {
     "name": "stdout",
     "output_type": "stream",
     "text": [
      "Delta= 2.9850547851562492  +-  0.032166131334602235\n"
     ]
    },
    {
     "data": {
      "image/png": "[encoded data removed]",
      "text/plain": [
       "<Figure size 432x288 with 1 Axes>"
      ]
     },
     "metadata": {
      "needs_background": "light"
     },
     "output_type": "display_data"
    }
   ],
   "source": [
    "y_proba=model8.predict(delay_test)\n",
    "\n",
    "Ntraj=10000\n",
    "nu=100\n",
    "nsets=int(Ntraj/nu)\n",
    "Deltamean8=np.zeros(nsets,float)\n",
    "Deltavar=np.zeros(nsets,float)\n",
    "\n",
    "for i in range(0,nsets):\n",
    "    Deltamean8[i]=np.sum(y_proba[i*nu:(i+1)*nu])/nu\n",
    "    Deltavar[i]=(Deltamean8[i]-delta_test[0]*dDelta)**2\n",
    "\n",
    "Delta_estimate=np.sum(Deltamean8)/nsets\n",
    "Var=np.sum(Deltavar)/nsets\n",
    "Delta_sigma8=np.sqrt(np.abs(Var))\n",
    "\n",
    "print(\"Delta=\",Delta_estimate,\" +- \",Delta_sigma8)\n",
    "\n",
    "X=np.arange(2)\n",
    "Error=[]\n",
    "Error.append(Delta_sigma8)\n",
    "Error.append(Sigma_classic)\n",
    "\n",
    "plt.bar(X,Error)\n",
    "plt.xticks(X, (\"ANN\", \"MLE\"))\n",
    "plt.ylabel(\"MSE\")\n",
    "plt.ylim([0,0.06])\n",
    "plt.show() "
   ]
  },
  {
   "cell_type": "code",
   "execution_count": 42,
   "id": "undefined-welding",
   "metadata": {},
   "outputs": [
    {
     "data": {
      "image/png": "[encoded data removed]",
      "text/plain": [
       "<Figure size 432x288 with 1 Axes>"
      ]
     },
     "metadata": {
      "needs_background": "light"
     },
     "output_type": "display_data"
    }
   ],
   "source": [
    "plt.hist(Deltamean8,align=\"left\" , label=\"ANN\", rwidth=0.8)\n",
    "plt.hist(Deltaclassiclist, align=\"right\", label=\"MLE\",rwidth=0.8)\n",
    "plt.xlabel(\"\\u0394\")\n",
    "plt.ylabel(\"Frequency\")\n",
    "plt.legend()\n",
    "plt.show()"
   ]
  }
 ],
 "metadata": {
  "kernelspec": {
   "display_name": "Python 3",
   "language": "python",
   "name": "python3"
  },
  "language_info": {
   "codemirror_mode": {
    "name": "ipython",
    "version": 3
   },
   "file_extension": ".py",
   "mimetype": "text/x-python",
   "name": "python",
   "nbconvert_exporter": "python",
   "pygments_lexer": "ipython3",
   "version": "3.9.1"
  }
 },
 "nbformat": 4,
 "nbformat_minor": 5
}
