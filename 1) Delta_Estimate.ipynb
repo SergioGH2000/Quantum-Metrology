{
 "cells": [
  {
   "cell_type": "markdown",
   "id": "resident-preparation",
   "metadata": {
    "id": "resident-preparation"
   },
   "source": [
    "# Estimation of Delta for the \"simple\" quantum system"
   ]
  },
  {
   "cell_type": "markdown",
   "id": "asian-swift",
   "metadata": {
    "id": "asian-swift"
   },
   "source": [
    "## Initialize parameters, operators, etc..."
   ]
  },
  {
   "cell_type": "code",
   "execution_count": 2,
   "id": "electoral-vulnerability",
   "metadata": {
    "id": "electoral-vulnerability"
   },
   "outputs": [],
   "source": [
    "from random import *\n",
    "from math import *\n",
    "import numpy as np\n",
    "import matplotlib.pyplot as plt\n",
    "from scipy.linalg import expm"
   ]
  },
  {
   "cell_type": "code",
   "execution_count": 3,
   "id": "iraqi-morgan",
   "metadata": {
    "id": "iraqi-morgan",
    "outputId": "8d15c6ba-e407-4806-9542-b144d2bca072"
   },
   "outputs": [
    {
     "name": "stdout",
     "output_type": "stream",
     "text": [
      "600\n",
      "Nu= 100\n",
      "Nsets= 100\n",
      "Pixel size for predicting delta= 0.05\n"
     ]
    }
   ],
   "source": [
    "#Parameters\n",
    "dt=0.05\n",
    "omega=1\n",
    "delta=3\n",
    "gamma=1\n",
    "\n",
    "#Time and deltas\n",
    "t0=0\n",
    "tf=30\n",
    "nt=int((tf-t0)/dt)\n",
    "t=np.linspace(t0,tf,nt)\n",
    "print(nt)\n",
    "\n",
    "Ntraj=10000 #Total number of trajectories\n",
    "nu=100 #Number of measurements per set\n",
    "nsets=int(Ntraj/nu) #Number of sets\n",
    "print(\"Nu=\",nu)\n",
    "print(\"Nsets=\",nsets)\n",
    "\n",
    "ndelta=201 #Number of deltas inside the estimation range\n",
    "Deltamin=0\n",
    "Deltamax=10\n",
    "Deltalist=np.linspace(Deltamin,Deltamax,ndelta) #Estimation range\n",
    "dDelta=Deltalist[1]-Deltalist[0]\n",
    "print(\"Pixel size for predicting delta=\",dDelta)\n",
    "\n",
    "#Initial value for the density matrix\n",
    "rho0=np.array([1,0,0,0],float) \n",
    "\n",
    "#Operators\n",
    "a=np.array([[0,1],[0,0]],float)\n",
    "ata=np.dot(np.transpose(a),a)\n",
    "H=np.array([[0,omega],[omega,delta]],float)\n",
    "Heff=H-1j*gamma/2*ata\n",
    "M=expm(-1j*dt*Heff) \n",
    "Id=np.eye(2)\n",
    "J=gamma*np.kron(a,a) #Jump operator\n",
    "\n",
    "\n",
    "def S(x):  #Operator for the evolution without jumps\n",
    "    HH=np.array([[0,omega],[omega,x]],float)\n",
    "    \n",
    "    LJ=1j*(np.kron(Id,np.transpose(HH))-np.kron(HH,Id))-\\\n",
    "    gamma/2*(np.kron(ata,Id)+np.kron(Id,np.transpose(ata)))\n",
    "    \n",
    "    return expm(LJ*dt)\n",
    "\n",
    "#We calculate the S operator in advanced for all possible delta values\n",
    "Svec = []\n",
    "for q in range(ndelta):\n",
    "    Svec.append(S(Deltalist[q]))\n",
    "\n",
    "#Prepare arrays to save later calculations\n",
    "Nmean=np.zeros([nsets,nt],float)\n",
    "Deltamean=np.zeros([nsets,nt],float)"
   ]
  },
  {
   "cell_type": "markdown",
   "id": "parallel-berlin",
   "metadata": {
    "id": "parallel-berlin"
   },
   "source": [
    "## We generate trajectories with the Monte Carlo method, apply Bayesian inference and save the results"
   ]
  },
  {
   "cell_type": "code",
   "execution_count": 85,
   "id": "toxic-queue",
   "metadata": {
    "id": "descending-render",
    "outputId": "addba26a-44cc-4654-cc28-29b477d4794f"
   },
   "outputs": [
    {
     "name": "stdout",
     "output_type": "stream",
     "text": [
      "Set= 1\n",
      "Set= 2\n",
      "Set= 3\n",
      "Set= 4\n",
      "Set= 5\n",
      "Set= 6\n",
      "Set= 7\n",
      "Set= 8\n",
      "Set= 9\n",
      "Set= 10\n",
      "Set= 11\n",
      "Set= 12\n",
      "Set= 13\n",
      "Set= 14\n",
      "Set= 15\n",
      "Set= 16\n",
      "Set= 17\n",
      "Set= 18\n",
      "Set= 19\n",
      "Set= 20\n",
      "Set= 21\n",
      "Set= 22\n",
      "Set= 23\n",
      "Set= 24\n",
      "Set= 25\n",
      "Set= 26\n",
      "Set= 27\n",
      "Set= 28\n",
      "Set= 29\n",
      "Set= 30\n",
      "Set= 31\n",
      "Set= 32\n",
      "Set= 33\n",
      "Set= 34\n",
      "Set= 35\n",
      "Set= 36\n",
      "Set= 37\n",
      "Set= 38\n",
      "Set= 39\n",
      "Set= 40\n",
      "Set= 41\n",
      "Set= 42\n",
      "Set= 43\n",
      "Set= 44\n",
      "Set= 45\n",
      "Set= 46\n",
      "Set= 47\n",
      "Set= 48\n",
      "Set= 49\n",
      "Set= 50\n",
      "Set= 51\n",
      "Set= 52\n",
      "Set= 53\n",
      "Set= 54\n",
      "Set= 55\n",
      "Set= 56\n",
      "Set= 57\n",
      "Set= 58\n",
      "Set= 59\n",
      "Set= 60\n",
      "Set= 61\n",
      "Set= 62\n",
      "Set= 63\n",
      "Set= 64\n",
      "Set= 65\n",
      "Set= 66\n",
      "Set= 67\n",
      "Set= 68\n",
      "Set= 69\n",
      "Set= 70\n",
      "Set= 71\n",
      "Set= 72\n",
      "Set= 73\n",
      "Set= 74\n",
      "Set= 75\n",
      "Set= 76\n",
      "Set= 77\n",
      "Set= 78\n",
      "Set= 79\n",
      "Set= 80\n",
      "Set= 81\n",
      "Set= 82\n",
      "Set= 83\n",
      "Set= 84\n",
      "Set= 85\n",
      "Set= 86\n",
      "Set= 87\n",
      "Set= 88\n",
      "Set= 89\n",
      "Set= 90\n",
      "Set= 91\n",
      "Set= 92\n",
      "Set= 93\n",
      "Set= 94\n",
      "Set= 95\n",
      "Set= 96\n",
      "Set= 97\n",
      "Set= 98\n",
      "Set= 99\n",
      "Set= 100\n"
     ]
    }
   ],
   "source": [
    "for w in range(0,nsets): #Loop over sets\n",
    "    count=0\n",
    "    Njumps=np.zeros([nu,nt],int)\n",
    "    prob=np.zeros([nu,ndelta,nt],float)\n",
    "    for j in range(0,nu): #Loop over measurements inside a set  \n",
    "        count=0\n",
    "        jumps=[]\n",
    "        ket=np.zeros([2,nt],complex)\n",
    "        ket[0,0]=np.sqrt(rho0[0]) #Define initial kets based on density matrix \n",
    "        ket[1,0]=np.sqrt(rho0[3]) \n",
    "  \n",
    "        #Quantum Jumps Method\n",
    "        for i in range(nt-1): #Loop over times\n",
    "            dP=gamma*dt*np.dot(np.transpose(np.conjugate(ket[:,i])),np.dot(ata,ket[:,i]))\n",
    "            r=random()\n",
    "            \n",
    "            if r<dP: #Jump\n",
    "                ket[:,i+1]=np.dot(a,ket[:,i])\n",
    "                ket[:,i+1]=ket[:,i+1]/np.linalg.norm(ket[:,i+1])\n",
    "                count=count+1\n",
    "                Njumps[j,i]=count \n",
    "                jumps.append(i)   \n",
    "                \n",
    "            else:    #No jump\n",
    "                ket[:,i+1]=np.dot(M,ket[:,i])\n",
    "                ket[:,i+1]=ket[:,i+1]/np.linalg.norm(ket[:,i+1])\n",
    "                Njumps[j,i]=count\n",
    "        Njumps[j,nt-1]=count\n",
    "        \n",
    "        Jumplist=np.array(jumps,float) #Jump indices\n",
    "    \n",
    "        factor=1\n",
    "        product=np.zeros([4,ndelta],complex)\n",
    "        for g in range(ndelta):\n",
    "            product[:,g]=rho0    \n",
    "\n",
    "        for k in range(nt): #Loop over times\n",
    "            PDW=np.zeros(ndelta,float) #Conditioned probabilities\n",
    "            for q in range(0,ndelta): #Loop over deltas            \n",
    "                    \n",
    "                if k in Jumplist: #Condition for a jump                    \n",
    "                    product[:,q]=np.dot(J,product[:,q])*factor\n",
    "                        \n",
    "                else:\n",
    "                    product[:,q]=np.dot(Svec[q],product[:,q])*factor                    \n",
    "\n",
    "                PDW[q]=np.abs(np.trace(product[:,q].reshape(2,2)))                \n",
    "         \n",
    "            prob[j,:,k]=PDW\n",
    "            \n",
    "    prob[:,:,400:600]=prob[:,:,400:600]*10**2 #We need to add a factor to avoid overflowing\n",
    "    Nmean[w,:]=np.sum(Njumps,0)/nu\n",
    "    Set=np.product(prob,0)\n",
    "    Norma=np.sum(Set,0)\n",
    "    Set=Set/Norma\n",
    "    \n",
    "    for j in range(0,nt):\n",
    "        Deltamean[w,j]=np.dot(Set[:,j],Deltalist)\n",
    "    print(\"Set=\",w+1)\n",
    "\n",
    "#Save results\n",
    "np.save(\"Deltamean.npy\", Deltamean)\n",
    "np.save(\"Nmean.npy\", Nmean)"
   ]
  },
  {
   "cell_type": "code",
   "execution_count": 62,
   "id": "aggregate-politics",
   "metadata": {},
   "outputs": [
    {
     "data": {
      "image/png": "[encoded data removed]",
      "text/plain": [
       "<Figure size 432x288 with 1 Axes>"
      ]
     },
     "metadata": {
      "needs_background": "light"
     },
     "output_type": "display_data"
    }
   ],
   "source": [
    "plt.plot(Deltalist,Set[:,nt-1])\n",
    "plt.plot([delta,delta],[0,0.25],label=\"Valor real\")\n",
    "plt.title(\"Distribución de probabilidad para un set con \"+\"\\u03bd=\"+str(nu))\n",
    "plt.xlabel(\"\\u0394\")\n",
    "plt.ylabel(\"Probabilidad\")\n",
    "plt.axis([2,4,0,0.3])\n",
    "plt.show()"
   ]
  },
  {
   "cell_type": "markdown",
   "id": "israeli-transsexual",
   "metadata": {
    "id": "israeli-transsexual"
   },
   "source": [
    "## Bayesian inference method"
   ]
  },
  {
   "cell_type": "code",
   "execution_count": 4,
   "id": "framed-migration",
   "metadata": {
    "id": "framed-migration"
   },
   "outputs": [],
   "source": [
    "Deltamean=np.load(\"Deltamean.npy\") #Load data\n",
    "Varquantum=np.zeros([nsets,nt],float)\n",
    "\n",
    "for j in range(0,nsets):\n",
    "    for i in range(0,nt):\n",
    "        Varquantum[j,i]=(Deltamean[j,i]-delta)**2\n",
    "        \n",
    "Deltaquantumlist=np.sum(Deltamean,0)/nsets\n",
    "Varquantumlist=np.sum(Varquantum,0)/nsets\n",
    "\n",
    "Sigmaquantumlist=np.sqrt(np.abs(Varquantumlist))"
   ]
  },
  {
   "cell_type": "markdown",
   "id": "particular-bouquet",
   "metadata": {
    "id": "particular-bouquet"
   },
   "source": [
    "## Maximum Likelihood Estimation\n",
    "\n",
    "Ignore the error message, it's just due to numerical overflowing"
   ]
  },
  {
   "cell_type": "code",
   "execution_count": 5,
   "id": "silent-expansion",
   "metadata": {
    "id": "silent-expansion"
   },
   "outputs": [
    {
     "name": "stderr",
     "output_type": "stream",
     "text": [
      "<ipython-input-5-c0f1c318bf03>:6: RuntimeWarning: invalid value encountered in double_scalars\n",
      "  Classicdelta[j,i]=np.sqrt(2**(2*Nmean[j,i])*np.abs((4*gamma*t[i]*omega**2-8*omega**2*Nmean[j,i]-gamma**2*Nmean[j,i]))/Nmean[j,i])/2**(1+Nmean[j,i])\n",
      "<ipython-input-5-c0f1c318bf03>:6: RuntimeWarning: divide by zero encountered in double_scalars\n",
      "  Classicdelta[j,i]=np.sqrt(2**(2*Nmean[j,i])*np.abs((4*gamma*t[i]*omega**2-8*omega**2*Nmean[j,i]-gamma**2*Nmean[j,i]))/Nmean[j,i])/2**(1+Nmean[j,i])\n"
     ]
    }
   ],
   "source": [
    "Nmean=np.load(\"Nmean.npy\")\n",
    "Classicdelta=np.zeros([nsets,nt],float)\n",
    "Varclassic=np.zeros([nsets,nt],float)\n",
    "for j in range(0,nsets):\n",
    "    for i in range(0,nt):\n",
    "        Classicdelta[j,i]=np.sqrt(2**(2*Nmean[j,i])*np.abs((4*gamma*t[i]*omega**2-8*omega**2*Nmean[j,i]-gamma**2*Nmean[j,i]))/Nmean[j,i])/2**(1+Nmean[j,i])\n",
    "        Varclassic[j,i]=(Classicdelta[j,i]-delta)**2\n",
    "\n",
    "Deltaclassiclist=np.sum(Classicdelta,0)/nsets\n",
    "Varclassiclist=np.sum(Varclassic,0)/nsets\n",
    "Sigmaclassiclist=np.sqrt(np.abs(Varclassiclist)) "
   ]
  },
  {
   "cell_type": "markdown",
   "id": "boring-patient",
   "metadata": {
    "id": "boring-patient"
   },
   "source": [
    "## Plotting results\n",
    "The first graph shows both estimations over time with their MSE shaded"
   ]
  },
  {
   "cell_type": "code",
   "execution_count": 6,
   "id": "touched-meeting",
   "metadata": {
    "id": "touched-meeting",
    "outputId": "0cedf4cc-eb80-4877-b2f7-26949477fae3",
    "scrolled": true
   },
   "outputs": [
    {
     "name": "stderr",
     "output_type": "stream",
     "text": [
      "<ipython-input-6-9f90f4b1ccad>:5: RuntimeWarning: invalid value encountered in subtract\n",
      "  plt.fill_between(t,Deltaclassiclist+Sigmaclassiclist,Deltaclassiclist-Sigmaclassiclist,\n"
     ]
    },
    {
     "data": {
      "image/png": "[encoded data removed]",
      "text/plain": [
       "<Figure size 432x288 with 1 Axes>"
      ]
     },
     "metadata": {
      "needs_background": "light"
     },
     "output_type": "display_data"
    }
   ],
   "source": [
    "plt.plot(t,Deltaquantumlist,label=\"Bayes\")\n",
    "plt.fill_between(t,Deltaquantumlist+Sigmaquantumlist,Deltaquantumlist-Sigmaquantumlist,\n",
    "                facecolor=\"blue\", color=\"blue\", alpha=0.1)\n",
    "plt.plot(t,Deltaclassiclist,label=\"MLE\")\n",
    "plt.fill_between(t,Deltaclassiclist+Sigmaclassiclist,Deltaclassiclist-Sigmaclassiclist,\n",
    "                facecolor=\"orange\", color=\"orange\", alpha=0.15)\n",
    "plt.plot([t0,tf],[delta,delta],color=\"k\",label=\"Real value\",linestyle=\"--\")\n",
    "plt.xlabel(\"Time\")\n",
    "plt.ylabel(\"\\u0394 est\")\n",
    "plt.title(\"Parameter estimation\"+\"\\n\"+\"\\u03bd=\"+str(nu)+\"  Nº sets=\"+str(nsets)+\"   Nº tray.=\"+str(Ntraj))\n",
    "plt.legend()\n",
    "plt.axis([t0,tf,2,4])\n",
    "plt.show()"
   ]
  },
  {
   "cell_type": "code",
   "execution_count": 7,
   "id": "orange-thompson",
   "metadata": {},
   "outputs": [
    {
     "name": "stdout",
     "output_type": "stream",
     "text": [
      "Bayesian estimate= 3.0166849430769833  +-  0.09306297773952409\n",
      "MLE estimate= 2.9704995901813915  +-  0.11190961905393161\n"
     ]
    }
   ],
   "source": [
    "print(\"Bayesian estimate=\",Deltaquantumlist[nt-1],\" +- \",Sigmaquantumlist[nt-1])\n",
    "print(\"MLE estimate=\",Deltaclassiclist[nt-1],\" +- \",Sigmaclassiclist[nt-1])"
   ]
  },
  {
   "cell_type": "markdown",
   "id": "injured-grocery",
   "metadata": {
    "id": "injured-grocery"
   },
   "source": [
    "## Comparing with the Fisher information\n"
   ]
  },
  {
   "cell_type": "code",
   "execution_count": 8,
   "id": "trained-seafood",
   "metadata": {
    "id": "trained-seafood"
   },
   "outputs": [
    {
     "name": "stderr",
     "output_type": "stream",
     "text": [
      "<ipython-input-8-a0a6f84aaf49>:3: RuntimeWarning: divide by zero encountered in double_scalars\n",
      "  Sigmafisher[i]=np.sqrt((8*omega**2+4*delta**2+gamma**2)**3/(nu*256*gamma*t[i]*omega**2*delta**2))\n"
     ]
    }
   ],
   "source": [
    "Sigmafisher=np.zeros(nt,float)\n",
    "for i in range(0,nt):\n",
    "    Sigmafisher[i]=np.sqrt((8*omega**2+4*delta**2+gamma**2)**3/(nu*256*gamma*t[i]*omega**2*delta**2))\n"
   ]
  },
  {
   "cell_type": "code",
   "execution_count": 10,
   "id": "opening-opera",
   "metadata": {
    "id": "opening-opera",
    "outputId": "b36ad02a-dd32-4cda-9d76-c5e32e64bd7b"
   },
   "outputs": [
    {
     "data": {
      "image/png": "[encoded data removed]",
      "text/plain": [
       "<Figure size 432x288 with 1 Axes>"
      ]
     },
     "metadata": {
      "needs_background": "light"
     },
     "output_type": "display_data"
    }
   ],
   "source": [
    "plt.plot(t,Sigmaquantumlist,label=\"Bayes\")\n",
    "plt.plot(t,Sigmaclassiclist,label=\"MLE\")\n",
    "plt.plot(t,Sigmafisher,linestyle=\"--\",label=\"Fisher\")\n",
    "plt.xlabel(\"Time\")\n",
    "plt.ylabel(\"MSE\")\n",
    "plt.title(\"MSE comparison\"+\"\\n\"+\"\\u03bd=\"+str(nu)+\"  Nº sets=\"+str(nsets)+\"   Nº tray.=\"+str(Ntraj))\n",
    "plt.legend()\n",
    "#plt.xscale(\"log\")\n",
    "#plt.yscale(\"log\")\n",
    "plt.axis([0,tf,0,0.2])\n",
    "plt.grid()\n",
    "plt.show()"
   ]
  }
 ],
 "metadata": {
  "colab": {
   "name": "Delta.ipynb",
   "provenance": []
  },
  "kernelspec": {
   "display_name": "Python 3",
   "language": "python",
   "name": "python3"
  },
  "language_info": {
   "codemirror_mode": {
    "name": "ipython",
    "version": 3
   },
   "file_extension": ".py",
   "mimetype": "text/x-python",
   "name": "python",
   "nbconvert_exporter": "python",
   "pygments_lexer": "ipython3",
   "version": "3.9.1"
  }
 },
 "nbformat": 4,
 "nbformat_minor": 5
}
